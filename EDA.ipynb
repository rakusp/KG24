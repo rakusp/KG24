{
 "cells": [
  {
   "metadata": {},
   "cell_type": "markdown",
   "source": "# Configuration",
   "id": "69d30bd1846afc99"
  },
  {
   "cell_type": "code",
   "id": "initial_id",
   "metadata": {
    "collapsed": true,
    "ExecuteTime": {
     "end_time": "2024-11-11T01:09:41.441996Z",
     "start_time": "2024-11-11T01:09:40.547535Z"
    }
   },
   "source": [
    "from SPARQLWrapper import SPARQLWrapper, JSON\n",
    "from utils import SPARQL_to_df\n",
    "from FAIR import findability, accessibility, interoperability, reusability\n",
    "import pandas as pd"
   ],
   "outputs": [],
   "execution_count": 1
  },
  {
   "metadata": {
    "ExecuteTime": {
     "end_time": "2024-11-11T01:09:41.457566Z",
     "start_time": "2024-11-11T01:09:41.441996Z"
    }
   },
   "cell_type": "code",
   "source": "connection = SPARQLWrapper(\"https://data.europa.eu/sparql\")",
   "id": "9bbb8b93b4179ad9",
   "outputs": [],
   "execution_count": 2
  },
  {
   "metadata": {
    "ExecuteTime": {
     "end_time": "2024-11-11T01:09:41.479785Z",
     "start_time": "2024-11-11T01:09:41.457566Z"
    }
   },
   "cell_type": "code",
   "source": [
    "PREFIXES = \"\"\"\n",
    "    PREFIX dcat: <http://www.w3.org/ns/dcat#>\n",
    "    PREFIX odp:  <http://data.europa.eu/euodp/ontologies/ec-odp#>\n",
    "    PREFIX dct: <http://purl.org/dc/terms/>\n",
    "    PREFIX xsd: <http://www.w3.org/2001/XMLSchema#>\n",
    "    PREFIX foaf: <http://xmlns.com/foaf/0.1/>\n",
    "    PREFIX void: <http://rdfs.org/ns/void#>\n",
    "\"\"\""
   ],
   "id": "b4fe86446fadcca1",
   "outputs": [],
   "execution_count": 3
  },
  {
   "metadata": {},
   "cell_type": "markdown",
   "source": "## Sample query",
   "id": "f1c0544c4e9b28e4"
  },
  {
   "metadata": {
    "ExecuteTime": {
     "end_time": "2024-11-11T01:09:41.627039Z",
     "start_time": "2024-11-11T01:09:41.479785Z"
    }
   },
   "cell_type": "code",
   "source": [
    "query = \"\"\"\n",
    "    SELECT DISTINCT ?p WHERE {\n",
    "        SELECT * WHERE {\n",
    "        ?d a dcat:Dataset .\n",
    "        ?d ?p ?o .\n",
    "      }\n",
    "      LIMIT 5000\n",
    "    }\n",
    "    \"\"\"\n",
    "\n",
    "df = SPARQL_to_df(connection, query, PREFIXES)"
   ],
   "id": "9081c6e1d66c33c2",
   "outputs": [],
   "execution_count": 4
  },
  {
   "metadata": {
    "ExecuteTime": {
     "end_time": "2024-11-11T01:09:41.658189Z",
     "start_time": "2024-11-11T01:09:41.627039Z"
    }
   },
   "cell_type": "code",
   "source": "df.head()",
   "id": "5ba16f0e243a6f26",
   "outputs": [
    {
     "data": {
      "text/plain": [
       "                                                 p\n",
       "0  http://www.w3.org/1999/02/22-rdf-syntax-ns#type\n",
       "1                 http://purl.org/dc/terms/created\n",
       "2                http://purl.org/dc/terms/modified\n",
       "3     http://www.w3.org/2000/01/rdf-schema#seeAlso\n",
       "4   http://www.w3.org/ns/dqv#hasQualityMeasurement"
      ],
      "text/html": [
       "<div>\n",
       "<style scoped>\n",
       "    .dataframe tbody tr th:only-of-type {\n",
       "        vertical-align: middle;\n",
       "    }\n",
       "\n",
       "    .dataframe tbody tr th {\n",
       "        vertical-align: top;\n",
       "    }\n",
       "\n",
       "    .dataframe thead th {\n",
       "        text-align: right;\n",
       "    }\n",
       "</style>\n",
       "<table border=\"1\" class=\"dataframe\">\n",
       "  <thead>\n",
       "    <tr style=\"text-align: right;\">\n",
       "      <th></th>\n",
       "      <th>p</th>\n",
       "    </tr>\n",
       "  </thead>\n",
       "  <tbody>\n",
       "    <tr>\n",
       "      <th>0</th>\n",
       "      <td>http://www.w3.org/1999/02/22-rdf-syntax-ns#type</td>\n",
       "    </tr>\n",
       "    <tr>\n",
       "      <th>1</th>\n",
       "      <td>http://purl.org/dc/terms/created</td>\n",
       "    </tr>\n",
       "    <tr>\n",
       "      <th>2</th>\n",
       "      <td>http://purl.org/dc/terms/modified</td>\n",
       "    </tr>\n",
       "    <tr>\n",
       "      <th>3</th>\n",
       "      <td>http://www.w3.org/2000/01/rdf-schema#seeAlso</td>\n",
       "    </tr>\n",
       "    <tr>\n",
       "      <th>4</th>\n",
       "      <td>http://www.w3.org/ns/dqv#hasQualityMeasurement</td>\n",
       "    </tr>\n",
       "  </tbody>\n",
       "</table>\n",
       "</div>"
      ]
     },
     "execution_count": 5,
     "metadata": {},
     "output_type": "execute_result"
    }
   ],
   "execution_count": 5
  },
  {
   "metadata": {
    "ExecuteTime": {
     "end_time": "2024-11-11T01:09:41.897103Z",
     "start_time": "2024-11-11T01:09:41.658189Z"
    }
   },
   "cell_type": "code",
   "source": "accessibility.is_url_ok(df.p[0])",
   "id": "fd5ef94436583a2f",
   "outputs": [
    {
     "data": {
      "text/plain": [
       "True"
      ]
     },
     "execution_count": 6,
     "metadata": {},
     "output_type": "execute_result"
    }
   ],
   "execution_count": 6
  },
  {
   "metadata": {
    "ExecuteTime": {
     "end_time": "2024-11-11T01:09:41.912682Z",
     "start_time": "2024-11-11T01:09:41.897103Z"
    }
   },
   "cell_type": "code",
   "source": "df[df.p.str.startswith(\"http://rdfs.org/ns/void#\")]",
   "id": "dbac49a9d125cc59",
   "outputs": [
    {
     "data": {
      "text/plain": [
       "Empty DataFrame\n",
       "Columns: [p]\n",
       "Index: []"
      ],
      "text/html": [
       "<div>\n",
       "<style scoped>\n",
       "    .dataframe tbody tr th:only-of-type {\n",
       "        vertical-align: middle;\n",
       "    }\n",
       "\n",
       "    .dataframe tbody tr th {\n",
       "        vertical-align: top;\n",
       "    }\n",
       "\n",
       "    .dataframe thead th {\n",
       "        text-align: right;\n",
       "    }\n",
       "</style>\n",
       "<table border=\"1\" class=\"dataframe\">\n",
       "  <thead>\n",
       "    <tr style=\"text-align: right;\">\n",
       "      <th></th>\n",
       "      <th>p</th>\n",
       "    </tr>\n",
       "  </thead>\n",
       "  <tbody>\n",
       "  </tbody>\n",
       "</table>\n",
       "</div>"
      ]
     },
     "execution_count": 7,
     "metadata": {},
     "output_type": "execute_result"
    }
   ],
   "execution_count": 7
  },
  {
   "metadata": {},
   "cell_type": "markdown",
   "source": "No void vocabulary in the dataset",
   "id": "827112344b2293b"
  },
  {
   "metadata": {
    "ExecuteTime": {
     "end_time": "2024-11-11T01:09:42.886095Z",
     "start_time": "2024-11-11T01:09:41.912682Z"
    }
   },
   "cell_type": "code",
   "source": [
    "datasets_query = \"\"\"\n",
    "    SELECT ?d WHERE {\n",
    "        SELECT * WHERE {\n",
    "        ?d a dcat:Dataset .\n",
    "      }\n",
    "      LIMIT 5000\n",
    "    }\n",
    "    \"\"\"\n",
    "\n",
    "distr_links = accessibility.distribution_links(connection, datasets_query, PREFIXES)"
   ],
   "id": "767fa6e325737260",
   "outputs": [],
   "execution_count": 8
  },
  {
   "metadata": {
    "ExecuteTime": {
     "end_time": "2024-11-11T01:09:42.906482Z",
     "start_time": "2024-11-11T01:09:42.888156Z"
    }
   },
   "cell_type": "code",
   "source": "distr_links.head()",
   "id": "9e7d22ad57b4224",
   "outputs": [
    {
     "data": {
      "text/plain": [
       "                                             dataset  \\\n",
       "0  http://data.europa.eu/88u/dataset/22984271-bun...   \n",
       "1  http://data.europa.eu/88u/dataset/22984271-bun...   \n",
       "2  http://data.europa.eu/88u/dataset/22984271-bun...   \n",
       "3  http://data.europa.eu/88u/dataset/22984271-bun...   \n",
       "4  http://data.europa.eu/88u/dataset/https-dane-g...   \n",
       "\n",
       "                                        distribution  \\\n",
       "0  http://data.europa.eu/88u/distribution/1265c36...   \n",
       "1  http://data.europa.eu/88u/distribution/882c468...   \n",
       "2  http://data.europa.eu/88u/distribution/8bf3489...   \n",
       "3  http://data.europa.eu/88u/distribution/d31eb28...   \n",
       "4  http://data.europa.eu/88u/distribution/e627608...   \n",
       "\n",
       "                                           accessURL  \\\n",
       "0  https://dam-api.bfs.admin.ch/hub/api/dam/asset...   \n",
       "1  https://dam-api.bfs.admin.ch/hub/api/dam/asset...   \n",
       "2  https://dam-api.bfs.admin.ch/hub/api/dam/asset...   \n",
       "3  https://dam-api.bfs.admin.ch/hub/api/dam/asset...   \n",
       "4  https://dane.gov.pl/pl/dataset/2783/resource/3...   \n",
       "\n",
       "                                         downloadURL  \n",
       "0  https://dam-api.bfs.admin.ch/hub/api/dam/asset...  \n",
       "1  https://dam-api.bfs.admin.ch/hub/api/dam/asset...  \n",
       "2  https://dam-api.bfs.admin.ch/hub/api/dam/asset...  \n",
       "3  https://dam-api.bfs.admin.ch/hub/api/dam/asset...  \n",
       "4  https://api.dane.gov.pl/resources/39657,umowy-...  "
      ],
      "text/html": [
       "<div>\n",
       "<style scoped>\n",
       "    .dataframe tbody tr th:only-of-type {\n",
       "        vertical-align: middle;\n",
       "    }\n",
       "\n",
       "    .dataframe tbody tr th {\n",
       "        vertical-align: top;\n",
       "    }\n",
       "\n",
       "    .dataframe thead th {\n",
       "        text-align: right;\n",
       "    }\n",
       "</style>\n",
       "<table border=\"1\" class=\"dataframe\">\n",
       "  <thead>\n",
       "    <tr style=\"text-align: right;\">\n",
       "      <th></th>\n",
       "      <th>dataset</th>\n",
       "      <th>distribution</th>\n",
       "      <th>accessURL</th>\n",
       "      <th>downloadURL</th>\n",
       "    </tr>\n",
       "  </thead>\n",
       "  <tbody>\n",
       "    <tr>\n",
       "      <th>0</th>\n",
       "      <td>http://data.europa.eu/88u/dataset/22984271-bun...</td>\n",
       "      <td>http://data.europa.eu/88u/distribution/1265c36...</td>\n",
       "      <td>https://dam-api.bfs.admin.ch/hub/api/dam/asset...</td>\n",
       "      <td>https://dam-api.bfs.admin.ch/hub/api/dam/asset...</td>\n",
       "    </tr>\n",
       "    <tr>\n",
       "      <th>1</th>\n",
       "      <td>http://data.europa.eu/88u/dataset/22984271-bun...</td>\n",
       "      <td>http://data.europa.eu/88u/distribution/882c468...</td>\n",
       "      <td>https://dam-api.bfs.admin.ch/hub/api/dam/asset...</td>\n",
       "      <td>https://dam-api.bfs.admin.ch/hub/api/dam/asset...</td>\n",
       "    </tr>\n",
       "    <tr>\n",
       "      <th>2</th>\n",
       "      <td>http://data.europa.eu/88u/dataset/22984271-bun...</td>\n",
       "      <td>http://data.europa.eu/88u/distribution/8bf3489...</td>\n",
       "      <td>https://dam-api.bfs.admin.ch/hub/api/dam/asset...</td>\n",
       "      <td>https://dam-api.bfs.admin.ch/hub/api/dam/asset...</td>\n",
       "    </tr>\n",
       "    <tr>\n",
       "      <th>3</th>\n",
       "      <td>http://data.europa.eu/88u/dataset/22984271-bun...</td>\n",
       "      <td>http://data.europa.eu/88u/distribution/d31eb28...</td>\n",
       "      <td>https://dam-api.bfs.admin.ch/hub/api/dam/asset...</td>\n",
       "      <td>https://dam-api.bfs.admin.ch/hub/api/dam/asset...</td>\n",
       "    </tr>\n",
       "    <tr>\n",
       "      <th>4</th>\n",
       "      <td>http://data.europa.eu/88u/dataset/https-dane-g...</td>\n",
       "      <td>http://data.europa.eu/88u/distribution/e627608...</td>\n",
       "      <td>https://dane.gov.pl/pl/dataset/2783/resource/3...</td>\n",
       "      <td>https://api.dane.gov.pl/resources/39657,umowy-...</td>\n",
       "    </tr>\n",
       "  </tbody>\n",
       "</table>\n",
       "</div>"
      ]
     },
     "execution_count": 9,
     "metadata": {},
     "output_type": "execute_result"
    }
   ],
   "execution_count": 9
  },
  {
   "metadata": {
    "ExecuteTime": {
     "end_time": "2024-11-11T01:09:42.967655Z",
     "start_time": "2024-11-11T01:09:42.908575Z"
    }
   },
   "cell_type": "code",
   "source": [
    "distr_agg = distr_links.groupby(\"distribution\").agg({\"accessURL\": \"count\", \"downloadURL\": \"count\"}).sort_values([\"accessURL\", \"downloadURL\"], ascending=False)\n",
    "distr_agg['ratio'] = distr_agg.downloadURL / distr_agg.accessURL\n",
    "distr_agg"
   ],
   "id": "ac9fb18f8026bbb5",
   "outputs": [
    {
     "data": {
      "text/plain": [
       "                                                    accessURL  downloadURL  \\\n",
       "distribution                                                                 \n",
       "http://data.europa.eu/88u/distribution/c2a8034e...        222          222   \n",
       "http://data.europa.eu/88u/distribution/92faea4e...         23           23   \n",
       "http://data.europa.eu/88u/distribution/a723e418...         23           23   \n",
       "http://data.europa.eu/88u/distribution/e8f585b1...          4            0   \n",
       "http://data.europa.eu/88u/distribution/bd5ea88f...          2            2   \n",
       "...                                                       ...          ...   \n",
       "http://data.europa.eu/88u/distribution/fff8b4c6...          1            0   \n",
       "http://data.europa.eu/88u/distribution/fffc3456...          1            0   \n",
       "http://data.europa.eu/88u/distribution/01a33f69...          0            0   \n",
       "http://data.europa.eu/88u/distribution/0b4cb8a8...          0            0   \n",
       "http://data.europa.eu/88u/distribution/9a8793e3...          0            0   \n",
       "\n",
       "                                                    ratio  \n",
       "distribution                                               \n",
       "http://data.europa.eu/88u/distribution/c2a8034e...    1.0  \n",
       "http://data.europa.eu/88u/distribution/92faea4e...    1.0  \n",
       "http://data.europa.eu/88u/distribution/a723e418...    1.0  \n",
       "http://data.europa.eu/88u/distribution/e8f585b1...    0.0  \n",
       "http://data.europa.eu/88u/distribution/bd5ea88f...    1.0  \n",
       "...                                                   ...  \n",
       "http://data.europa.eu/88u/distribution/fff8b4c6...    0.0  \n",
       "http://data.europa.eu/88u/distribution/fffc3456...    0.0  \n",
       "http://data.europa.eu/88u/distribution/01a33f69...    NaN  \n",
       "http://data.europa.eu/88u/distribution/0b4cb8a8...    NaN  \n",
       "http://data.europa.eu/88u/distribution/9a8793e3...    NaN  \n",
       "\n",
       "[8009 rows x 3 columns]"
      ],
      "text/html": [
       "<div>\n",
       "<style scoped>\n",
       "    .dataframe tbody tr th:only-of-type {\n",
       "        vertical-align: middle;\n",
       "    }\n",
       "\n",
       "    .dataframe tbody tr th {\n",
       "        vertical-align: top;\n",
       "    }\n",
       "\n",
       "    .dataframe thead th {\n",
       "        text-align: right;\n",
       "    }\n",
       "</style>\n",
       "<table border=\"1\" class=\"dataframe\">\n",
       "  <thead>\n",
       "    <tr style=\"text-align: right;\">\n",
       "      <th></th>\n",
       "      <th>accessURL</th>\n",
       "      <th>downloadURL</th>\n",
       "      <th>ratio</th>\n",
       "    </tr>\n",
       "    <tr>\n",
       "      <th>distribution</th>\n",
       "      <th></th>\n",
       "      <th></th>\n",
       "      <th></th>\n",
       "    </tr>\n",
       "  </thead>\n",
       "  <tbody>\n",
       "    <tr>\n",
       "      <th>http://data.europa.eu/88u/distribution/c2a8034e-6e4c-4193-855f-69f18d6bd41d</th>\n",
       "      <td>222</td>\n",
       "      <td>222</td>\n",
       "      <td>1.0</td>\n",
       "    </tr>\n",
       "    <tr>\n",
       "      <th>http://data.europa.eu/88u/distribution/92faea4e-8a42-4253-b22c-fea0413bc9d1</th>\n",
       "      <td>23</td>\n",
       "      <td>23</td>\n",
       "      <td>1.0</td>\n",
       "    </tr>\n",
       "    <tr>\n",
       "      <th>http://data.europa.eu/88u/distribution/a723e418-eb26-4f19-8708-2442b2b4680f</th>\n",
       "      <td>23</td>\n",
       "      <td>23</td>\n",
       "      <td>1.0</td>\n",
       "    </tr>\n",
       "    <tr>\n",
       "      <th>http://data.europa.eu/88u/distribution/e8f585b1-96a1-413b-a6a0-1ba6dd8080b2</th>\n",
       "      <td>4</td>\n",
       "      <td>0</td>\n",
       "      <td>0.0</td>\n",
       "    </tr>\n",
       "    <tr>\n",
       "      <th>http://data.europa.eu/88u/distribution/bd5ea88f-112b-497d-8e86-e40bd747aed7</th>\n",
       "      <td>2</td>\n",
       "      <td>2</td>\n",
       "      <td>1.0</td>\n",
       "    </tr>\n",
       "    <tr>\n",
       "      <th>...</th>\n",
       "      <td>...</td>\n",
       "      <td>...</td>\n",
       "      <td>...</td>\n",
       "    </tr>\n",
       "    <tr>\n",
       "      <th>http://data.europa.eu/88u/distribution/fff8b4c6-e771-4c90-bb38-58ece19b2aff</th>\n",
       "      <td>1</td>\n",
       "      <td>0</td>\n",
       "      <td>0.0</td>\n",
       "    </tr>\n",
       "    <tr>\n",
       "      <th>http://data.europa.eu/88u/distribution/fffc3456-c3b4-4e85-b861-eff9c006fd30</th>\n",
       "      <td>1</td>\n",
       "      <td>0</td>\n",
       "      <td>0.0</td>\n",
       "    </tr>\n",
       "    <tr>\n",
       "      <th>http://data.europa.eu/88u/distribution/01a33f69-b46f-49b4-b4d0-a3611c699d21</th>\n",
       "      <td>0</td>\n",
       "      <td>0</td>\n",
       "      <td>NaN</td>\n",
       "    </tr>\n",
       "    <tr>\n",
       "      <th>http://data.europa.eu/88u/distribution/0b4cb8a8-df48-43c6-8bda-523c85e024f5</th>\n",
       "      <td>0</td>\n",
       "      <td>0</td>\n",
       "      <td>NaN</td>\n",
       "    </tr>\n",
       "    <tr>\n",
       "      <th>http://data.europa.eu/88u/distribution/9a8793e3-a17c-49af-a7d2-8037437398ed</th>\n",
       "      <td>0</td>\n",
       "      <td>0</td>\n",
       "      <td>NaN</td>\n",
       "    </tr>\n",
       "  </tbody>\n",
       "</table>\n",
       "<p>8009 rows × 3 columns</p>\n",
       "</div>"
      ]
     },
     "execution_count": 10,
     "metadata": {},
     "output_type": "execute_result"
    }
   ],
   "execution_count": 10
  },
  {
   "metadata": {
    "ExecuteTime": {
     "end_time": "2024-11-11T01:09:43.049251Z",
     "start_time": "2024-11-11T01:09:42.969721Z"
    }
   },
   "cell_type": "code",
   "source": [
    "distr_agg = distr_links.groupby(\"dataset\").agg({\"accessURL\": \"count\", \"downloadURL\": \"count\", \"distribution\": \"count\"}).sort_values([\"accessURL\", \"downloadURL\"], ascending=False)\n",
    "distr_agg['ratio'] = distr_agg.downloadURL / (distr_agg.accessURL.apply(lambda x: x or 1))\n",
    "distr_agg"
   ],
   "id": "509a08cfaaa1fd1b",
   "outputs": [
    {
     "data": {
      "text/plain": [
       "                                                    accessURL  downloadURL  \\\n",
       "dataset                                                                      \n",
       "http://data.europa.eu/88u/dataset/https-www-dov...        225          225   \n",
       "http://data.europa.eu/88u/dataset/organogram-hm...         73            0   \n",
       "http://data.europa.eu/88u/dataset/39c7626b-44f6...         46           46   \n",
       "http://data.europa.eu/88u/dataset/dc9159e7-88d1...         23           23   \n",
       "http://data.europa.eu/88u/dataset/https-opendat...         21            0   \n",
       "...                                                       ...          ...   \n",
       "http://data.europa.eu/88u/dataset/spaicv0202_or...          0            0   \n",
       "http://data.europa.eu/88u/dataset/spasitnaadmlo...          0            0   \n",
       "http://data.europa.eu/88u/dataset/spasitnaagric...          0            0   \n",
       "http://data.europa.eu/88u/dataset/urn-x-wmo-md-...          0            0   \n",
       "http://data.europa.eu/88u/dataset/urn-x-wmo-md-...          0            0   \n",
       "\n",
       "                                                    distribution  ratio  \n",
       "dataset                                                                  \n",
       "http://data.europa.eu/88u/dataset/https-www-dov...           225    1.0  \n",
       "http://data.europa.eu/88u/dataset/organogram-hm...            73    0.0  \n",
       "http://data.europa.eu/88u/dataset/39c7626b-44f6...            46    1.0  \n",
       "http://data.europa.eu/88u/dataset/dc9159e7-88d1...            23    1.0  \n",
       "http://data.europa.eu/88u/dataset/https-opendat...            21    0.0  \n",
       "...                                                          ...    ...  \n",
       "http://data.europa.eu/88u/dataset/spaicv0202_or...             0    0.0  \n",
       "http://data.europa.eu/88u/dataset/spasitnaadmlo...             0    0.0  \n",
       "http://data.europa.eu/88u/dataset/spasitnaagric...             0    0.0  \n",
       "http://data.europa.eu/88u/dataset/urn-x-wmo-md-...             0    0.0  \n",
       "http://data.europa.eu/88u/dataset/urn-x-wmo-md-...             0    0.0  \n",
       "\n",
       "[5000 rows x 4 columns]"
      ],
      "text/html": [
       "<div>\n",
       "<style scoped>\n",
       "    .dataframe tbody tr th:only-of-type {\n",
       "        vertical-align: middle;\n",
       "    }\n",
       "\n",
       "    .dataframe tbody tr th {\n",
       "        vertical-align: top;\n",
       "    }\n",
       "\n",
       "    .dataframe thead th {\n",
       "        text-align: right;\n",
       "    }\n",
       "</style>\n",
       "<table border=\"1\" class=\"dataframe\">\n",
       "  <thead>\n",
       "    <tr style=\"text-align: right;\">\n",
       "      <th></th>\n",
       "      <th>accessURL</th>\n",
       "      <th>downloadURL</th>\n",
       "      <th>distribution</th>\n",
       "      <th>ratio</th>\n",
       "    </tr>\n",
       "    <tr>\n",
       "      <th>dataset</th>\n",
       "      <th></th>\n",
       "      <th></th>\n",
       "      <th></th>\n",
       "      <th></th>\n",
       "    </tr>\n",
       "  </thead>\n",
       "  <tbody>\n",
       "    <tr>\n",
       "      <th>http://data.europa.eu/88u/dataset/https-www-dov-vlaanderen-be-dataset-e5a46140-137f-4f67-87cd-9c359ebbdfd2</th>\n",
       "      <td>225</td>\n",
       "      <td>225</td>\n",
       "      <td>225</td>\n",
       "      <td>1.0</td>\n",
       "    </tr>\n",
       "    <tr>\n",
       "      <th>http://data.europa.eu/88u/dataset/organogram-hm-revenue-and-customs</th>\n",
       "      <td>73</td>\n",
       "      <td>0</td>\n",
       "      <td>73</td>\n",
       "      <td>0.0</td>\n",
       "    </tr>\n",
       "    <tr>\n",
       "      <th>http://data.europa.eu/88u/dataset/39c7626b-44f6-4ce2-a12c-5a1438237c7a</th>\n",
       "      <td>46</td>\n",
       "      <td>46</td>\n",
       "      <td>46</td>\n",
       "      <td>1.0</td>\n",
       "    </tr>\n",
       "    <tr>\n",
       "      <th>http://data.europa.eu/88u/dataset/dc9159e7-88d1-43b4-a952-1b75dfb1041f</th>\n",
       "      <td>23</td>\n",
       "      <td>23</td>\n",
       "      <td>23</td>\n",
       "      <td>1.0</td>\n",
       "    </tr>\n",
       "    <tr>\n",
       "      <th>http://data.europa.eu/88u/dataset/https-opendata-ugr-es-dataset-3adf9739-092d-4ed8-8643-87a48e2453d0</th>\n",
       "      <td>21</td>\n",
       "      <td>0</td>\n",
       "      <td>21</td>\n",
       "      <td>0.0</td>\n",
       "    </tr>\n",
       "    <tr>\n",
       "      <th>...</th>\n",
       "      <td>...</td>\n",
       "      <td>...</td>\n",
       "      <td>...</td>\n",
       "      <td>...</td>\n",
       "    </tr>\n",
       "    <tr>\n",
       "      <th>http://data.europa.eu/88u/dataset/spaicv0202_ortomacval</th>\n",
       "      <td>0</td>\n",
       "      <td>0</td>\n",
       "      <td>0</td>\n",
       "      <td>0.0</td>\n",
       "    </tr>\n",
       "    <tr>\n",
       "      <th>http://data.europa.eu/88u/dataset/spasitnaadmloc_pol_redesreser-xml~~1</th>\n",
       "      <td>0</td>\n",
       "      <td>0</td>\n",
       "      <td>0</td>\n",
       "      <td>0.0</td>\n",
       "    </tr>\n",
       "    <tr>\n",
       "      <th>http://data.europa.eu/88u/dataset/spasitnaagricu_pol_regviticola_f13t14-xml~~1</th>\n",
       "      <td>0</td>\n",
       "      <td>0</td>\n",
       "      <td>0</td>\n",
       "      <td>0.0</td>\n",
       "    </tr>\n",
       "    <tr>\n",
       "      <th>http://data.europa.eu/88u/dataset/urn-x-wmo-md-int-wmo-wis-issa02edzw</th>\n",
       "      <td>0</td>\n",
       "      <td>0</td>\n",
       "      <td>0</td>\n",
       "      <td>0.0</td>\n",
       "    </tr>\n",
       "    <tr>\n",
       "      <th>http://data.europa.eu/88u/dataset/urn-x-wmo-md-int-wmo-wis-issk02edzw</th>\n",
       "      <td>0</td>\n",
       "      <td>0</td>\n",
       "      <td>0</td>\n",
       "      <td>0.0</td>\n",
       "    </tr>\n",
       "  </tbody>\n",
       "</table>\n",
       "<p>5000 rows × 4 columns</p>\n",
       "</div>"
      ]
     },
     "execution_count": 11,
     "metadata": {},
     "output_type": "execute_result"
    }
   ],
   "execution_count": 11
  },
  {
   "metadata": {
    "ExecuteTime": {
     "end_time": "2024-11-11T01:09:43.089995Z",
     "start_time": "2024-11-11T01:09:43.051320Z"
    }
   },
   "cell_type": "code",
   "source": "distr_agg[distr_agg.accessURL != distr_agg.distribution]",
   "id": "ac46dc625d72b7c4",
   "outputs": [
    {
     "data": {
      "text/plain": [
       "                                                    accessURL  downloadURL  \\\n",
       "dataset                                                                      \n",
       "http://data.europa.eu/88u/dataset/250cc292-efee...          0            0   \n",
       "http://data.europa.eu/88u/dataset/8a72e27f-c065...          0            0   \n",
       "http://data.europa.eu/88u/dataset/99602f78-f90a...          0            0   \n",
       "\n",
       "                                                    distribution  ratio  \n",
       "dataset                                                                  \n",
       "http://data.europa.eu/88u/dataset/250cc292-efee...             1    0.0  \n",
       "http://data.europa.eu/88u/dataset/8a72e27f-c065...             1    0.0  \n",
       "http://data.europa.eu/88u/dataset/99602f78-f90a...             1    0.0  "
      ],
      "text/html": [
       "<div>\n",
       "<style scoped>\n",
       "    .dataframe tbody tr th:only-of-type {\n",
       "        vertical-align: middle;\n",
       "    }\n",
       "\n",
       "    .dataframe tbody tr th {\n",
       "        vertical-align: top;\n",
       "    }\n",
       "\n",
       "    .dataframe thead th {\n",
       "        text-align: right;\n",
       "    }\n",
       "</style>\n",
       "<table border=\"1\" class=\"dataframe\">\n",
       "  <thead>\n",
       "    <tr style=\"text-align: right;\">\n",
       "      <th></th>\n",
       "      <th>accessURL</th>\n",
       "      <th>downloadURL</th>\n",
       "      <th>distribution</th>\n",
       "      <th>ratio</th>\n",
       "    </tr>\n",
       "    <tr>\n",
       "      <th>dataset</th>\n",
       "      <th></th>\n",
       "      <th></th>\n",
       "      <th></th>\n",
       "      <th></th>\n",
       "    </tr>\n",
       "  </thead>\n",
       "  <tbody>\n",
       "    <tr>\n",
       "      <th>http://data.europa.eu/88u/dataset/250cc292-efee-4df4-a74d-ec7d84464bea</th>\n",
       "      <td>0</td>\n",
       "      <td>0</td>\n",
       "      <td>1</td>\n",
       "      <td>0.0</td>\n",
       "    </tr>\n",
       "    <tr>\n",
       "      <th>http://data.europa.eu/88u/dataset/8a72e27f-c065-5365-af42-6b05fffa0d63</th>\n",
       "      <td>0</td>\n",
       "      <td>0</td>\n",
       "      <td>1</td>\n",
       "      <td>0.0</td>\n",
       "    </tr>\n",
       "    <tr>\n",
       "      <th>http://data.europa.eu/88u/dataset/99602f78-f90a-5f19-b168-799e2d371ea2</th>\n",
       "      <td>0</td>\n",
       "      <td>0</td>\n",
       "      <td>1</td>\n",
       "      <td>0.0</td>\n",
       "    </tr>\n",
       "  </tbody>\n",
       "</table>\n",
       "</div>"
      ]
     },
     "execution_count": 12,
     "metadata": {},
     "output_type": "execute_result"
    }
   ],
   "execution_count": 12
  },
  {
   "metadata": {
    "ExecuteTime": {
     "end_time": "2024-11-11T01:09:43.724972Z",
     "start_time": "2024-11-11T01:09:43.092081Z"
    }
   },
   "cell_type": "code",
   "source": [
    "datasets_query = \"\"\"\n",
    "    SELECT ?d WHERE {\n",
    "        SELECT * WHERE {\n",
    "        ?d a dcat:Dataset .\n",
    "      }\n",
    "      LIMIT 5000\n",
    "    }\n",
    "    \"\"\"\n",
    "\n",
    "author_info = reusability.publisher_provenance_contant(connection, datasets_query, PREFIXES)"
   ],
   "id": "e3fbe86b04433794",
   "outputs": [],
   "execution_count": 13
  },
  {
   "metadata": {
    "ExecuteTime": {
     "end_time": "2024-11-11T01:13:19.845922Z",
     "start_time": "2024-11-11T01:13:19.814677Z"
    }
   },
   "cell_type": "code",
   "source": "(~author_info.drop_duplicates(\"dataset\").isnull()).mean()",
   "id": "3f7c26cca0ab34d3",
   "outputs": [
    {
     "data": {
      "text/plain": [
       "dataset       1.0000\n",
       "publisher     0.3480\n",
       "provenance    0.3804\n",
       "contact       0.8432\n",
       "dtype: float64"
      ]
     },
     "execution_count": 22,
     "metadata": {},
     "output_type": "execute_result"
    }
   ],
   "execution_count": 22
  }
 ],
 "metadata": {
  "kernelspec": {
   "display_name": "Python 3",
   "language": "python",
   "name": "python3"
  },
  "language_info": {
   "codemirror_mode": {
    "name": "ipython",
    "version": 2
   },
   "file_extension": ".py",
   "mimetype": "text/x-python",
   "name": "python",
   "nbconvert_exporter": "python",
   "pygments_lexer": "ipython2",
   "version": "2.7.6"
  }
 },
 "nbformat": 4,
 "nbformat_minor": 5
}
