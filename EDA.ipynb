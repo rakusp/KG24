{
 "cells": [
  {
   "cell_type": "markdown",
   "id": "69d30bd1846afc99",
   "metadata": {},
   "source": [
    "# Configuration"
   ]
  },
  {
   "cell_type": "code",
   "execution_count": 8,
   "id": "initial_id",
   "metadata": {
    "ExecuteTime": {
     "end_time": "2024-11-11T01:09:41.441996Z",
     "start_time": "2024-11-11T01:09:40.547535Z"
    }
   },
   "outputs": [],
   "source": [
    "from SPARQLWrapper import SPARQLWrapper, JSON\n",
    "from utils import SPARQL_to_df\n",
    "from FAIR import findability, accessibility, interoperability, reusability\n",
    "import pandas as pd\n",
    "import numpy as np\n",
    "from matplotlib import pyplot as plt"
   ]
  },
  {
   "cell_type": "code",
   "execution_count": 2,
   "id": "9bbb8b93b4179ad9",
   "metadata": {
    "ExecuteTime": {
     "end_time": "2024-11-11T01:09:41.457566Z",
     "start_time": "2024-11-11T01:09:41.441996Z"
    }
   },
   "outputs": [],
   "source": [
    "connection = SPARQLWrapper(\"https://data.europa.eu/sparql\")"
   ]
  },
  {
   "cell_type": "code",
   "execution_count": 4,
   "id": "b4fe86446fadcca1",
   "metadata": {
    "ExecuteTime": {
     "end_time": "2024-11-11T01:09:41.479785Z",
     "start_time": "2024-11-11T01:09:41.457566Z"
    }
   },
   "outputs": [],
   "source": [
    "PREFIXES = \"\"\"\n",
    "    PREFIX dcat: <http://www.w3.org/ns/dcat#>\n",
    "    PREFIX odp:  <http://data.europa.eu/euodp/ontologies/ec-odp#>\n",
    "    PREFIX dct: <http://purl.org/dc/terms/>\n",
    "    PREFIX xsd: <http://www.w3.org/2001/XMLSchema#>\n",
    "    PREFIX foaf: <http://xmlns.com/foaf/0.1/>\n",
    "    PREFIX void: <http://rdfs.org/ns/void#>\n",
    "\"\"\""
   ]
  },
  {
   "cell_type": "markdown",
   "id": "f1c0544c4e9b28e4",
   "metadata": {},
   "source": [
    "## Sample query"
   ]
  },
  {
   "cell_type": "code",
   "execution_count": 4,
   "id": "9081c6e1d66c33c2",
   "metadata": {
    "ExecuteTime": {
     "end_time": "2024-11-11T01:09:41.627039Z",
     "start_time": "2024-11-11T01:09:41.479785Z"
    }
   },
   "outputs": [],
   "source": [
    "query = \"\"\"\n",
    "    SELECT DISTINCT ?p WHERE {\n",
    "        SELECT * WHERE {\n",
    "        ?d a dcat:Dataset .\n",
    "        ?d ?p ?o .\n",
    "      }\n",
    "      LIMIT 5000\n",
    "    }\n",
    "    \"\"\"\n",
    "\n",
    "df = SPARQL_to_df(connection, query, PREFIXES)"
   ]
  },
  {
   "cell_type": "code",
   "execution_count": 5,
   "id": "5ba16f0e243a6f26",
   "metadata": {
    "ExecuteTime": {
     "end_time": "2024-11-11T01:09:41.658189Z",
     "start_time": "2024-11-11T01:09:41.627039Z"
    }
   },
   "outputs": [
    {
     "data": {
      "text/html": [
       "<div>\n",
       "<style scoped>\n",
       "    .dataframe tbody tr th:only-of-type {\n",
       "        vertical-align: middle;\n",
       "    }\n",
       "\n",
       "    .dataframe tbody tr th {\n",
       "        vertical-align: top;\n",
       "    }\n",
       "\n",
       "    .dataframe thead th {\n",
       "        text-align: right;\n",
       "    }\n",
       "</style>\n",
       "<table border=\"1\" class=\"dataframe\">\n",
       "  <thead>\n",
       "    <tr style=\"text-align: right;\">\n",
       "      <th></th>\n",
       "      <th>p</th>\n",
       "    </tr>\n",
       "  </thead>\n",
       "  <tbody>\n",
       "    <tr>\n",
       "      <th>0</th>\n",
       "      <td>http://www.w3.org/1999/02/22-rdf-syntax-ns#type</td>\n",
       "    </tr>\n",
       "  </tbody>\n",
       "</table>\n",
       "</div>"
      ],
      "text/plain": [
       "                                                 p\n",
       "0  http://www.w3.org/1999/02/22-rdf-syntax-ns#type"
      ]
     },
     "execution_count": 5,
     "metadata": {},
     "output_type": "execute_result"
    }
   ],
   "source": [
    "df.head()"
   ]
  },
  {
   "cell_type": "code",
   "execution_count": 6,
   "id": "fd5ef94436583a2f",
   "metadata": {
    "ExecuteTime": {
     "end_time": "2024-11-11T01:09:41.897103Z",
     "start_time": "2024-11-11T01:09:41.658189Z"
    }
   },
   "outputs": [
    {
     "data": {
      "text/plain": [
       "True"
      ]
     },
     "execution_count": 6,
     "metadata": {},
     "output_type": "execute_result"
    }
   ],
   "source": [
    "accessibility.is_url_ok(df.p[0])"
   ]
  },
  {
   "cell_type": "code",
   "execution_count": 7,
   "id": "dbac49a9d125cc59",
   "metadata": {
    "ExecuteTime": {
     "end_time": "2024-11-11T01:09:41.912682Z",
     "start_time": "2024-11-11T01:09:41.897103Z"
    }
   },
   "outputs": [
    {
     "data": {
      "text/html": [
       "<div>\n",
       "<style scoped>\n",
       "    .dataframe tbody tr th:only-of-type {\n",
       "        vertical-align: middle;\n",
       "    }\n",
       "\n",
       "    .dataframe tbody tr th {\n",
       "        vertical-align: top;\n",
       "    }\n",
       "\n",
       "    .dataframe thead th {\n",
       "        text-align: right;\n",
       "    }\n",
       "</style>\n",
       "<table border=\"1\" class=\"dataframe\">\n",
       "  <thead>\n",
       "    <tr style=\"text-align: right;\">\n",
       "      <th></th>\n",
       "      <th>p</th>\n",
       "    </tr>\n",
       "  </thead>\n",
       "  <tbody>\n",
       "  </tbody>\n",
       "</table>\n",
       "</div>"
      ],
      "text/plain": [
       "Empty DataFrame\n",
       "Columns: [p]\n",
       "Index: []"
      ]
     },
     "execution_count": 7,
     "metadata": {},
     "output_type": "execute_result"
    }
   ],
   "source": [
    "df[df.p.str.startswith(\"http://rdfs.org/ns/void#\")]"
   ]
  },
  {
   "cell_type": "markdown",
   "id": "827112344b2293b",
   "metadata": {},
   "source": [
    "No void vocabulary in the dataset"
   ]
  },
  {
   "cell_type": "code",
   "execution_count": 8,
   "id": "767fa6e325737260",
   "metadata": {
    "ExecuteTime": {
     "end_time": "2024-11-11T01:09:42.886095Z",
     "start_time": "2024-11-11T01:09:41.912682Z"
    }
   },
   "outputs": [],
   "source": [
    "datasets_query = \"\"\"\n",
    "    SELECT ?d WHERE {\n",
    "        SELECT * WHERE {\n",
    "        ?d a dcat:Dataset .\n",
    "      }\n",
    "      LIMIT 5000\n",
    "    }\n",
    "    \"\"\"\n",
    "\n",
    "distr_links = accessibility.distribution_links(connection, datasets_query, PREFIXES)"
   ]
  },
  {
   "cell_type": "code",
   "execution_count": 9,
   "id": "9e7d22ad57b4224",
   "metadata": {
    "ExecuteTime": {
     "end_time": "2024-11-11T01:09:42.906482Z",
     "start_time": "2024-11-11T01:09:42.888156Z"
    }
   },
   "outputs": [
    {
     "data": {
      "text/html": [
       "<div>\n",
       "<style scoped>\n",
       "    .dataframe tbody tr th:only-of-type {\n",
       "        vertical-align: middle;\n",
       "    }\n",
       "\n",
       "    .dataframe tbody tr th {\n",
       "        vertical-align: top;\n",
       "    }\n",
       "\n",
       "    .dataframe thead th {\n",
       "        text-align: right;\n",
       "    }\n",
       "</style>\n",
       "<table border=\"1\" class=\"dataframe\">\n",
       "  <thead>\n",
       "    <tr style=\"text-align: right;\">\n",
       "      <th></th>\n",
       "      <th>dataset</th>\n",
       "      <th>distribution</th>\n",
       "      <th>accessURL</th>\n",
       "      <th>downloadURL</th>\n",
       "    </tr>\n",
       "  </thead>\n",
       "  <tbody>\n",
       "    <tr>\n",
       "      <th>0</th>\n",
       "      <td>http://data.europa.eu/88u/dataset/22984271-bun...</td>\n",
       "      <td>http://data.europa.eu/88u/distribution/1265c36...</td>\n",
       "      <td>https://dam-api.bfs.admin.ch/hub/api/dam/asset...</td>\n",
       "      <td>https://dam-api.bfs.admin.ch/hub/api/dam/asset...</td>\n",
       "    </tr>\n",
       "    <tr>\n",
       "      <th>1</th>\n",
       "      <td>http://data.europa.eu/88u/dataset/22984271-bun...</td>\n",
       "      <td>http://data.europa.eu/88u/distribution/882c468...</td>\n",
       "      <td>https://dam-api.bfs.admin.ch/hub/api/dam/asset...</td>\n",
       "      <td>https://dam-api.bfs.admin.ch/hub/api/dam/asset...</td>\n",
       "    </tr>\n",
       "    <tr>\n",
       "      <th>2</th>\n",
       "      <td>http://data.europa.eu/88u/dataset/22984271-bun...</td>\n",
       "      <td>http://data.europa.eu/88u/distribution/8bf3489...</td>\n",
       "      <td>https://dam-api.bfs.admin.ch/hub/api/dam/asset...</td>\n",
       "      <td>https://dam-api.bfs.admin.ch/hub/api/dam/asset...</td>\n",
       "    </tr>\n",
       "    <tr>\n",
       "      <th>3</th>\n",
       "      <td>http://data.europa.eu/88u/dataset/22984271-bun...</td>\n",
       "      <td>http://data.europa.eu/88u/distribution/d31eb28...</td>\n",
       "      <td>https://dam-api.bfs.admin.ch/hub/api/dam/asset...</td>\n",
       "      <td>https://dam-api.bfs.admin.ch/hub/api/dam/asset...</td>\n",
       "    </tr>\n",
       "    <tr>\n",
       "      <th>4</th>\n",
       "      <td>http://data.europa.eu/88u/dataset/https-dane-g...</td>\n",
       "      <td>http://data.europa.eu/88u/distribution/e627608...</td>\n",
       "      <td>https://dane.gov.pl/pl/dataset/2783/resource/3...</td>\n",
       "      <td>https://api.dane.gov.pl/resources/39657,umowy-...</td>\n",
       "    </tr>\n",
       "  </tbody>\n",
       "</table>\n",
       "</div>"
      ],
      "text/plain": [
       "                                             dataset  \\\n",
       "0  http://data.europa.eu/88u/dataset/22984271-bun...   \n",
       "1  http://data.europa.eu/88u/dataset/22984271-bun...   \n",
       "2  http://data.europa.eu/88u/dataset/22984271-bun...   \n",
       "3  http://data.europa.eu/88u/dataset/22984271-bun...   \n",
       "4  http://data.europa.eu/88u/dataset/https-dane-g...   \n",
       "\n",
       "                                        distribution  \\\n",
       "0  http://data.europa.eu/88u/distribution/1265c36...   \n",
       "1  http://data.europa.eu/88u/distribution/882c468...   \n",
       "2  http://data.europa.eu/88u/distribution/8bf3489...   \n",
       "3  http://data.europa.eu/88u/distribution/d31eb28...   \n",
       "4  http://data.europa.eu/88u/distribution/e627608...   \n",
       "\n",
       "                                           accessURL  \\\n",
       "0  https://dam-api.bfs.admin.ch/hub/api/dam/asset...   \n",
       "1  https://dam-api.bfs.admin.ch/hub/api/dam/asset...   \n",
       "2  https://dam-api.bfs.admin.ch/hub/api/dam/asset...   \n",
       "3  https://dam-api.bfs.admin.ch/hub/api/dam/asset...   \n",
       "4  https://dane.gov.pl/pl/dataset/2783/resource/3...   \n",
       "\n",
       "                                         downloadURL  \n",
       "0  https://dam-api.bfs.admin.ch/hub/api/dam/asset...  \n",
       "1  https://dam-api.bfs.admin.ch/hub/api/dam/asset...  \n",
       "2  https://dam-api.bfs.admin.ch/hub/api/dam/asset...  \n",
       "3  https://dam-api.bfs.admin.ch/hub/api/dam/asset...  \n",
       "4  https://api.dane.gov.pl/resources/39657,umowy-...  "
      ]
     },
     "execution_count": 9,
     "metadata": {},
     "output_type": "execute_result"
    }
   ],
   "source": [
    "distr_links.head()"
   ]
  },
  {
   "cell_type": "code",
   "execution_count": 10,
   "id": "ac9fb18f8026bbb5",
   "metadata": {
    "ExecuteTime": {
     "end_time": "2024-11-11T01:09:42.967655Z",
     "start_time": "2024-11-11T01:09:42.908575Z"
    }
   },
   "outputs": [
    {
     "data": {
      "text/html": [
       "<div>\n",
       "<style scoped>\n",
       "    .dataframe tbody tr th:only-of-type {\n",
       "        vertical-align: middle;\n",
       "    }\n",
       "\n",
       "    .dataframe tbody tr th {\n",
       "        vertical-align: top;\n",
       "    }\n",
       "\n",
       "    .dataframe thead th {\n",
       "        text-align: right;\n",
       "    }\n",
       "</style>\n",
       "<table border=\"1\" class=\"dataframe\">\n",
       "  <thead>\n",
       "    <tr style=\"text-align: right;\">\n",
       "      <th></th>\n",
       "      <th>accessURL</th>\n",
       "      <th>downloadURL</th>\n",
       "      <th>ratio</th>\n",
       "    </tr>\n",
       "    <tr>\n",
       "      <th>distribution</th>\n",
       "      <th></th>\n",
       "      <th></th>\n",
       "      <th></th>\n",
       "    </tr>\n",
       "  </thead>\n",
       "  <tbody>\n",
       "    <tr>\n",
       "      <th>http://data.europa.eu/88u/distribution/c2a8034e-6e4c-4193-855f-69f18d6bd41d</th>\n",
       "      <td>222</td>\n",
       "      <td>222</td>\n",
       "      <td>1.0</td>\n",
       "    </tr>\n",
       "    <tr>\n",
       "      <th>http://data.europa.eu/88u/distribution/92faea4e-8a42-4253-b22c-fea0413bc9d1</th>\n",
       "      <td>23</td>\n",
       "      <td>23</td>\n",
       "      <td>1.0</td>\n",
       "    </tr>\n",
       "    <tr>\n",
       "      <th>http://data.europa.eu/88u/distribution/a723e418-eb26-4f19-8708-2442b2b4680f</th>\n",
       "      <td>23</td>\n",
       "      <td>23</td>\n",
       "      <td>1.0</td>\n",
       "    </tr>\n",
       "    <tr>\n",
       "      <th>http://data.europa.eu/88u/distribution/e8f585b1-96a1-413b-a6a0-1ba6dd8080b2</th>\n",
       "      <td>4</td>\n",
       "      <td>0</td>\n",
       "      <td>0.0</td>\n",
       "    </tr>\n",
       "    <tr>\n",
       "      <th>http://data.europa.eu/88u/distribution/bd5ea88f-112b-497d-8e86-e40bd747aed7</th>\n",
       "      <td>2</td>\n",
       "      <td>2</td>\n",
       "      <td>1.0</td>\n",
       "    </tr>\n",
       "    <tr>\n",
       "      <th>...</th>\n",
       "      <td>...</td>\n",
       "      <td>...</td>\n",
       "      <td>...</td>\n",
       "    </tr>\n",
       "    <tr>\n",
       "      <th>http://data.europa.eu/88u/distribution/fff8b4c6-e771-4c90-bb38-58ece19b2aff</th>\n",
       "      <td>1</td>\n",
       "      <td>0</td>\n",
       "      <td>0.0</td>\n",
       "    </tr>\n",
       "    <tr>\n",
       "      <th>http://data.europa.eu/88u/distribution/fffc3456-c3b4-4e85-b861-eff9c006fd30</th>\n",
       "      <td>1</td>\n",
       "      <td>0</td>\n",
       "      <td>0.0</td>\n",
       "    </tr>\n",
       "    <tr>\n",
       "      <th>http://data.europa.eu/88u/distribution/08671b71-0c31-4d03-a6ed-d8c9c5bab658</th>\n",
       "      <td>0</td>\n",
       "      <td>0</td>\n",
       "      <td>NaN</td>\n",
       "    </tr>\n",
       "    <tr>\n",
       "      <th>http://data.europa.eu/88u/distribution/9a8793e3-a17c-49af-a7d2-8037437398ed</th>\n",
       "      <td>0</td>\n",
       "      <td>0</td>\n",
       "      <td>NaN</td>\n",
       "    </tr>\n",
       "    <tr>\n",
       "      <th>http://data.europa.eu/88u/distribution/e2bfd22a-0fda-4e2c-aa99-4bcbbbc8a0e9</th>\n",
       "      <td>0</td>\n",
       "      <td>0</td>\n",
       "      <td>NaN</td>\n",
       "    </tr>\n",
       "  </tbody>\n",
       "</table>\n",
       "<p>7934 rows × 3 columns</p>\n",
       "</div>"
      ],
      "text/plain": [
       "                                                    accessURL  downloadURL  \\\n",
       "distribution                                                                 \n",
       "http://data.europa.eu/88u/distribution/c2a8034e...        222          222   \n",
       "http://data.europa.eu/88u/distribution/92faea4e...         23           23   \n",
       "http://data.europa.eu/88u/distribution/a723e418...         23           23   \n",
       "http://data.europa.eu/88u/distribution/e8f585b1...          4            0   \n",
       "http://data.europa.eu/88u/distribution/bd5ea88f...          2            2   \n",
       "...                                                       ...          ...   \n",
       "http://data.europa.eu/88u/distribution/fff8b4c6...          1            0   \n",
       "http://data.europa.eu/88u/distribution/fffc3456...          1            0   \n",
       "http://data.europa.eu/88u/distribution/08671b71...          0            0   \n",
       "http://data.europa.eu/88u/distribution/9a8793e3...          0            0   \n",
       "http://data.europa.eu/88u/distribution/e2bfd22a...          0            0   \n",
       "\n",
       "                                                    ratio  \n",
       "distribution                                               \n",
       "http://data.europa.eu/88u/distribution/c2a8034e...    1.0  \n",
       "http://data.europa.eu/88u/distribution/92faea4e...    1.0  \n",
       "http://data.europa.eu/88u/distribution/a723e418...    1.0  \n",
       "http://data.europa.eu/88u/distribution/e8f585b1...    0.0  \n",
       "http://data.europa.eu/88u/distribution/bd5ea88f...    1.0  \n",
       "...                                                   ...  \n",
       "http://data.europa.eu/88u/distribution/fff8b4c6...    0.0  \n",
       "http://data.europa.eu/88u/distribution/fffc3456...    0.0  \n",
       "http://data.europa.eu/88u/distribution/08671b71...    NaN  \n",
       "http://data.europa.eu/88u/distribution/9a8793e3...    NaN  \n",
       "http://data.europa.eu/88u/distribution/e2bfd22a...    NaN  \n",
       "\n",
       "[7934 rows x 3 columns]"
      ]
     },
     "execution_count": 10,
     "metadata": {},
     "output_type": "execute_result"
    }
   ],
   "source": [
    "distr_agg = distr_links.groupby(\"distribution\").agg({\"accessURL\": \"count\", \"downloadURL\": \"count\"}).sort_values([\"accessURL\", \"downloadURL\"], ascending=False)\n",
    "distr_agg['ratio'] = distr_agg.downloadURL / distr_agg.accessURL\n",
    "distr_agg"
   ]
  },
  {
   "cell_type": "code",
   "execution_count": 11,
   "id": "509a08cfaaa1fd1b",
   "metadata": {
    "ExecuteTime": {
     "end_time": "2024-11-11T01:09:43.049251Z",
     "start_time": "2024-11-11T01:09:42.969721Z"
    }
   },
   "outputs": [
    {
     "data": {
      "text/html": [
       "<div>\n",
       "<style scoped>\n",
       "    .dataframe tbody tr th:only-of-type {\n",
       "        vertical-align: middle;\n",
       "    }\n",
       "\n",
       "    .dataframe tbody tr th {\n",
       "        vertical-align: top;\n",
       "    }\n",
       "\n",
       "    .dataframe thead th {\n",
       "        text-align: right;\n",
       "    }\n",
       "</style>\n",
       "<table border=\"1\" class=\"dataframe\">\n",
       "  <thead>\n",
       "    <tr style=\"text-align: right;\">\n",
       "      <th></th>\n",
       "      <th>accessURL</th>\n",
       "      <th>downloadURL</th>\n",
       "      <th>distribution</th>\n",
       "      <th>ratio</th>\n",
       "    </tr>\n",
       "    <tr>\n",
       "      <th>dataset</th>\n",
       "      <th></th>\n",
       "      <th></th>\n",
       "      <th></th>\n",
       "      <th></th>\n",
       "    </tr>\n",
       "  </thead>\n",
       "  <tbody>\n",
       "    <tr>\n",
       "      <th>http://data.europa.eu/88u/dataset/https-www-dov-vlaanderen-be-dataset-e5a46140-137f-4f67-87cd-9c359ebbdfd2</th>\n",
       "      <td>225</td>\n",
       "      <td>225</td>\n",
       "      <td>225</td>\n",
       "      <td>1.0</td>\n",
       "    </tr>\n",
       "    <tr>\n",
       "      <th>http://data.europa.eu/88u/dataset/organogram-hm-revenue-and-customs</th>\n",
       "      <td>73</td>\n",
       "      <td>0</td>\n",
       "      <td>73</td>\n",
       "      <td>0.0</td>\n",
       "    </tr>\n",
       "    <tr>\n",
       "      <th>http://data.europa.eu/88u/dataset/39c7626b-44f6-4ce2-a12c-5a1438237c7a</th>\n",
       "      <td>46</td>\n",
       "      <td>46</td>\n",
       "      <td>46</td>\n",
       "      <td>1.0</td>\n",
       "    </tr>\n",
       "    <tr>\n",
       "      <th>http://data.europa.eu/88u/dataset/dc9159e7-88d1-43b4-a952-1b75dfb1041f</th>\n",
       "      <td>23</td>\n",
       "      <td>23</td>\n",
       "      <td>23</td>\n",
       "      <td>1.0</td>\n",
       "    </tr>\n",
       "    <tr>\n",
       "      <th>http://data.europa.eu/88u/dataset/https-opendata-ugr-es-dataset-3adf9739-092d-4ed8-8643-87a48e2453d0</th>\n",
       "      <td>21</td>\n",
       "      <td>0</td>\n",
       "      <td>21</td>\n",
       "      <td>0.0</td>\n",
       "    </tr>\n",
       "    <tr>\n",
       "      <th>...</th>\n",
       "      <td>...</td>\n",
       "      <td>...</td>\n",
       "      <td>...</td>\n",
       "      <td>...</td>\n",
       "    </tr>\n",
       "    <tr>\n",
       "      <th>http://data.europa.eu/88u/dataset/spasitnaadmloc_pol_redesreser-xml~~1</th>\n",
       "      <td>0</td>\n",
       "      <td>0</td>\n",
       "      <td>0</td>\n",
       "      <td>0.0</td>\n",
       "    </tr>\n",
       "    <tr>\n",
       "      <th>http://data.europa.eu/88u/dataset/spasitnaagricu_pol_regviticola_f13t14-xml~~1</th>\n",
       "      <td>0</td>\n",
       "      <td>0</td>\n",
       "      <td>0</td>\n",
       "      <td>0.0</td>\n",
       "    </tr>\n",
       "    <tr>\n",
       "      <th>http://data.europa.eu/88u/dataset/spasitnapoluci_sym_apcvamb-xml~~1</th>\n",
       "      <td>0</td>\n",
       "      <td>0</td>\n",
       "      <td>0</td>\n",
       "      <td>0.0</td>\n",
       "    </tr>\n",
       "    <tr>\n",
       "      <th>http://data.europa.eu/88u/dataset/urn-x-wmo-md-int-wmo-wis-issa02edzw</th>\n",
       "      <td>0</td>\n",
       "      <td>0</td>\n",
       "      <td>0</td>\n",
       "      <td>0.0</td>\n",
       "    </tr>\n",
       "    <tr>\n",
       "      <th>http://data.europa.eu/88u/dataset/urn-x-wmo-md-int-wmo-wis-issk02edzw</th>\n",
       "      <td>0</td>\n",
       "      <td>0</td>\n",
       "      <td>0</td>\n",
       "      <td>0.0</td>\n",
       "    </tr>\n",
       "  </tbody>\n",
       "</table>\n",
       "<p>5000 rows × 4 columns</p>\n",
       "</div>"
      ],
      "text/plain": [
       "                                                    accessURL  downloadURL  \\\n",
       "dataset                                                                      \n",
       "http://data.europa.eu/88u/dataset/https-www-dov...        225          225   \n",
       "http://data.europa.eu/88u/dataset/organogram-hm...         73            0   \n",
       "http://data.europa.eu/88u/dataset/39c7626b-44f6...         46           46   \n",
       "http://data.europa.eu/88u/dataset/dc9159e7-88d1...         23           23   \n",
       "http://data.europa.eu/88u/dataset/https-opendat...         21            0   \n",
       "...                                                       ...          ...   \n",
       "http://data.europa.eu/88u/dataset/spasitnaadmlo...          0            0   \n",
       "http://data.europa.eu/88u/dataset/spasitnaagric...          0            0   \n",
       "http://data.europa.eu/88u/dataset/spasitnapoluc...          0            0   \n",
       "http://data.europa.eu/88u/dataset/urn-x-wmo-md-...          0            0   \n",
       "http://data.europa.eu/88u/dataset/urn-x-wmo-md-...          0            0   \n",
       "\n",
       "                                                    distribution  ratio  \n",
       "dataset                                                                  \n",
       "http://data.europa.eu/88u/dataset/https-www-dov...           225    1.0  \n",
       "http://data.europa.eu/88u/dataset/organogram-hm...            73    0.0  \n",
       "http://data.europa.eu/88u/dataset/39c7626b-44f6...            46    1.0  \n",
       "http://data.europa.eu/88u/dataset/dc9159e7-88d1...            23    1.0  \n",
       "http://data.europa.eu/88u/dataset/https-opendat...            21    0.0  \n",
       "...                                                          ...    ...  \n",
       "http://data.europa.eu/88u/dataset/spasitnaadmlo...             0    0.0  \n",
       "http://data.europa.eu/88u/dataset/spasitnaagric...             0    0.0  \n",
       "http://data.europa.eu/88u/dataset/spasitnapoluc...             0    0.0  \n",
       "http://data.europa.eu/88u/dataset/urn-x-wmo-md-...             0    0.0  \n",
       "http://data.europa.eu/88u/dataset/urn-x-wmo-md-...             0    0.0  \n",
       "\n",
       "[5000 rows x 4 columns]"
      ]
     },
     "execution_count": 11,
     "metadata": {},
     "output_type": "execute_result"
    }
   ],
   "source": [
    "distr_agg = distr_links.groupby(\"dataset\").agg({\"accessURL\": \"count\", \"downloadURL\": \"count\", \"distribution\": \"count\"}).sort_values([\"accessURL\", \"downloadURL\"], ascending=False)\n",
    "distr_agg['ratio'] = distr_agg.downloadURL / (distr_agg.accessURL.apply(lambda x: x or 1))\n",
    "distr_agg"
   ]
  },
  {
   "cell_type": "code",
   "execution_count": 12,
   "id": "ac46dc625d72b7c4",
   "metadata": {
    "ExecuteTime": {
     "end_time": "2024-11-11T01:09:43.089995Z",
     "start_time": "2024-11-11T01:09:43.051320Z"
    }
   },
   "outputs": [
    {
     "data": {
      "text/html": [
       "<div>\n",
       "<style scoped>\n",
       "    .dataframe tbody tr th:only-of-type {\n",
       "        vertical-align: middle;\n",
       "    }\n",
       "\n",
       "    .dataframe tbody tr th {\n",
       "        vertical-align: top;\n",
       "    }\n",
       "\n",
       "    .dataframe thead th {\n",
       "        text-align: right;\n",
       "    }\n",
       "</style>\n",
       "<table border=\"1\" class=\"dataframe\">\n",
       "  <thead>\n",
       "    <tr style=\"text-align: right;\">\n",
       "      <th></th>\n",
       "      <th>accessURL</th>\n",
       "      <th>downloadURL</th>\n",
       "      <th>distribution</th>\n",
       "      <th>ratio</th>\n",
       "    </tr>\n",
       "    <tr>\n",
       "      <th>dataset</th>\n",
       "      <th></th>\n",
       "      <th></th>\n",
       "      <th></th>\n",
       "      <th></th>\n",
       "    </tr>\n",
       "  </thead>\n",
       "  <tbody>\n",
       "    <tr>\n",
       "      <th>http://data.europa.eu/88u/dataset/250cc292-efee-4df4-a74d-ec7d84464bea</th>\n",
       "      <td>0</td>\n",
       "      <td>0</td>\n",
       "      <td>1</td>\n",
       "      <td>0.0</td>\n",
       "    </tr>\n",
       "    <tr>\n",
       "      <th>http://data.europa.eu/88u/dataset/8a72e27f-c065-5365-af42-6b05fffa0d63</th>\n",
       "      <td>0</td>\n",
       "      <td>0</td>\n",
       "      <td>1</td>\n",
       "      <td>0.0</td>\n",
       "    </tr>\n",
       "    <tr>\n",
       "      <th>http://data.europa.eu/88u/dataset/99602f78-f90a-5f19-b168-799e2d371ea2</th>\n",
       "      <td>0</td>\n",
       "      <td>0</td>\n",
       "      <td>1</td>\n",
       "      <td>0.0</td>\n",
       "    </tr>\n",
       "  </tbody>\n",
       "</table>\n",
       "</div>"
      ],
      "text/plain": [
       "                                                    accessURL  downloadURL  \\\n",
       "dataset                                                                      \n",
       "http://data.europa.eu/88u/dataset/250cc292-efee...          0            0   \n",
       "http://data.europa.eu/88u/dataset/8a72e27f-c065...          0            0   \n",
       "http://data.europa.eu/88u/dataset/99602f78-f90a...          0            0   \n",
       "\n",
       "                                                    distribution  ratio  \n",
       "dataset                                                                  \n",
       "http://data.europa.eu/88u/dataset/250cc292-efee...             1    0.0  \n",
       "http://data.europa.eu/88u/dataset/8a72e27f-c065...             1    0.0  \n",
       "http://data.europa.eu/88u/dataset/99602f78-f90a...             1    0.0  "
      ]
     },
     "execution_count": 12,
     "metadata": {},
     "output_type": "execute_result"
    }
   ],
   "source": [
    "distr_agg[distr_agg.accessURL != distr_agg.distribution]"
   ]
  },
  {
   "cell_type": "code",
   "execution_count": 13,
   "id": "e3fbe86b04433794",
   "metadata": {
    "ExecuteTime": {
     "end_time": "2024-11-11T01:09:43.724972Z",
     "start_time": "2024-11-11T01:09:43.092081Z"
    }
   },
   "outputs": [],
   "source": [
    "datasets_query = \"\"\"\n",
    "    SELECT ?d WHERE {\n",
    "        SELECT * WHERE {\n",
    "        ?d a dcat:Dataset .\n",
    "      }\n",
    "      LIMIT 5000\n",
    "    }\n",
    "    \"\"\"\n",
    "\n",
    "author_info = reusability.publisher_provenance_contant(connection, datasets_query, PREFIXES)"
   ]
  },
  {
   "cell_type": "code",
   "execution_count": 14,
   "id": "3f7c26cca0ab34d3",
   "metadata": {
    "ExecuteTime": {
     "end_time": "2024-11-11T01:13:19.845922Z",
     "start_time": "2024-11-11T01:13:19.814677Z"
    }
   },
   "outputs": [
    {
     "data": {
      "text/plain": [
       "dataset       1.0000\n",
       "publisher     0.3398\n",
       "provenance    0.3800\n",
       "contact       0.8496\n",
       "dtype: float64"
      ]
     },
     "execution_count": 14,
     "metadata": {},
     "output_type": "execute_result"
    }
   ],
   "source": [
    "(~author_info.drop_duplicates(\"dataset\").isnull()).mean()"
   ]
  },
  {
   "cell_type": "markdown",
   "id": "26c61754-aba6-4d34-bcbf-659ec787e1eb",
   "metadata": {},
   "source": [
    "### Findability properties"
   ]
  },
  {
   "cell_type": "code",
   "execution_count": 18,
   "id": "4fd0f1e4-a8d1-4c12-a767-6ca879b7e6d2",
   "metadata": {},
   "outputs": [],
   "source": [
    "findability_query = \"\"\"\n",
    "SELECT * WHERE{\n",
    "    ?datasetURI a dcat:Dataset;\n",
    "    dct:publisher/rdfs:label|dct:publisher/skos:prefLabel ?publisher;\n",
    "    dcat:theme <http://publications.europa.eu/resource/authority/data-theme/ENVI>.\n",
    "    FILTER (LANG(?publisher) = \"\" || LANG(?publisher) = \"en\") .\n",
    "} LIMIT 1500\n",
    "\"\"\""
   ]
  },
  {
   "cell_type": "code",
   "execution_count": 19,
   "id": "017d1138-8b10-4a1f-848f-425b5b63393a",
   "metadata": {},
   "outputs": [],
   "source": [
    "df = findability.findability_properties(connection, findability_query, PREFIXES)"
   ]
  },
  {
   "cell_type": "code",
   "execution_count": 20,
   "id": "4b35c94f-7331-4794-b499-683c54148375",
   "metadata": {},
   "outputs": [],
   "source": [
    "df['keywords'] = df['keywords'].astype(np.int64)"
   ]
  },
  {
   "cell_type": "code",
   "execution_count": 21,
   "id": "dcdc9421-3f4d-48a5-ba0f-6bfa115ccd8a",
   "metadata": {},
   "outputs": [
    {
     "data": {
      "text/html": [
       "<div>\n",
       "<style scoped>\n",
       "    .dataframe tbody tr th:only-of-type {\n",
       "        vertical-align: middle;\n",
       "    }\n",
       "\n",
       "    .dataframe tbody tr th {\n",
       "        vertical-align: top;\n",
       "    }\n",
       "\n",
       "    .dataframe thead th {\n",
       "        text-align: right;\n",
       "    }\n",
       "</style>\n",
       "<table border=\"1\" class=\"dataframe\">\n",
       "  <thead>\n",
       "    <tr style=\"text-align: right;\">\n",
       "      <th></th>\n",
       "      <th>datasetURI</th>\n",
       "      <th>publisher</th>\n",
       "      <th>englishTitle</th>\n",
       "      <th>keywords</th>\n",
       "      <th>issuedDate</th>\n",
       "      <th>datasetType</th>\n",
       "      <th>datasetLocation</th>\n",
       "    </tr>\n",
       "  </thead>\n",
       "  <tbody>\n",
       "    <tr>\n",
       "      <th>0</th>\n",
       "      <td>http://data.europa.eu/88u/dataset/cvjw4miotply...</td>\n",
       "      <td>Eurostat</td>\n",
       "      <td></td>\n",
       "      <td>15</td>\n",
       "      <td>2009-09-04</td>\n",
       "      <td>http://publications.europa.eu/resource/authori...</td>\n",
       "      <td>http://publications.europa.eu/resource/authori...</td>\n",
       "    </tr>\n",
       "    <tr>\n",
       "      <th>1</th>\n",
       "      <td>http://data.europa.eu/88u/dataset/oxh3avmhdejh...</td>\n",
       "      <td>Eurostat</td>\n",
       "      <td></td>\n",
       "      <td>15</td>\n",
       "      <td>2016-04-07</td>\n",
       "      <td>http://publications.europa.eu/resource/authori...</td>\n",
       "      <td>http://publications.europa.eu/resource/authori...</td>\n",
       "    </tr>\n",
       "    <tr>\n",
       "      <th>2</th>\n",
       "      <td>http://data.europa.eu/88u/dataset/8yuwtef1ybh6...</td>\n",
       "      <td>Eurostat</td>\n",
       "      <td></td>\n",
       "      <td>21</td>\n",
       "      <td>2009-09-04</td>\n",
       "      <td>http://publications.europa.eu/resource/authori...</td>\n",
       "      <td>http://publications.europa.eu/resource/authori...</td>\n",
       "    </tr>\n",
       "    <tr>\n",
       "      <th>3</th>\n",
       "      <td>http://data.europa.eu/88u/dataset/w3fue4e3bh6n...</td>\n",
       "      <td>Eurostat</td>\n",
       "      <td></td>\n",
       "      <td>9</td>\n",
       "      <td>2014-08-07</td>\n",
       "      <td>http://publications.europa.eu/resource/authori...</td>\n",
       "      <td>http://publications.europa.eu/resource/authori...</td>\n",
       "    </tr>\n",
       "    <tr>\n",
       "      <th>4</th>\n",
       "      <td>http://data.europa.eu/88u/dataset/si3fcvkueimm...</td>\n",
       "      <td>Eurostat</td>\n",
       "      <td>Emergency oil stocks in days equivalent - mont...</td>\n",
       "      <td>12</td>\n",
       "      <td>2020-03-30</td>\n",
       "      <td>http://publications.europa.eu/resource/authori...</td>\n",
       "      <td>http://publications.europa.eu/resource/authori...</td>\n",
       "    </tr>\n",
       "  </tbody>\n",
       "</table>\n",
       "</div>"
      ],
      "text/plain": [
       "                                          datasetURI publisher  \\\n",
       "0  http://data.europa.eu/88u/dataset/cvjw4miotply...  Eurostat   \n",
       "1  http://data.europa.eu/88u/dataset/oxh3avmhdejh...  Eurostat   \n",
       "2  http://data.europa.eu/88u/dataset/8yuwtef1ybh6...  Eurostat   \n",
       "3  http://data.europa.eu/88u/dataset/w3fue4e3bh6n...  Eurostat   \n",
       "4  http://data.europa.eu/88u/dataset/si3fcvkueimm...  Eurostat   \n",
       "\n",
       "                                        englishTitle  keywords  issuedDate  \\\n",
       "0                                                           15  2009-09-04   \n",
       "1                                                           15  2016-04-07   \n",
       "2                                                           21  2009-09-04   \n",
       "3                                                            9  2014-08-07   \n",
       "4  Emergency oil stocks in days equivalent - mont...        12  2020-03-30   \n",
       "\n",
       "                                         datasetType  \\\n",
       "0  http://publications.europa.eu/resource/authori...   \n",
       "1  http://publications.europa.eu/resource/authori...   \n",
       "2  http://publications.europa.eu/resource/authori...   \n",
       "3  http://publications.europa.eu/resource/authori...   \n",
       "4  http://publications.europa.eu/resource/authori...   \n",
       "\n",
       "                                     datasetLocation  \n",
       "0  http://publications.europa.eu/resource/authori...  \n",
       "1  http://publications.europa.eu/resource/authori...  \n",
       "2  http://publications.europa.eu/resource/authori...  \n",
       "3  http://publications.europa.eu/resource/authori...  \n",
       "4  http://publications.europa.eu/resource/authori...  "
      ]
     },
     "execution_count": 21,
     "metadata": {},
     "output_type": "execute_result"
    }
   ],
   "source": [
    "df.head()"
   ]
  },
  {
   "cell_type": "code",
   "execution_count": 22,
   "id": "9358e62a-00f1-4a07-a072-ee2697bd7fe1",
   "metadata": {},
   "outputs": [
    {
     "data": {
      "text/plain": [
       "0.00466"
      ]
     },
     "execution_count": 22,
     "metadata": {},
     "output_type": "execute_result"
    }
   ],
   "source": [
    "len(df[df['issuedDate'].isnull()]) / len(df)"
   ]
  },
  {
   "cell_type": "code",
   "execution_count": 23,
   "id": "ee535b06-a9c8-4fe8-8055-a73ac982b377",
   "metadata": {},
   "outputs": [
    {
     "data": {
      "text/plain": [
       "0.50604"
      ]
     },
     "execution_count": 23,
     "metadata": {},
     "output_type": "execute_result"
    }
   ],
   "source": [
    "len(df[df['englishTitle'] == '']) / len(df)"
   ]
  },
  {
   "cell_type": "code",
   "execution_count": 24,
   "id": "2c368b95-086f-4a66-adce-d8d216900f20",
   "metadata": {},
   "outputs": [
    {
     "data": {
      "text/plain": [
       "0.03618"
      ]
     },
     "execution_count": 24,
     "metadata": {},
     "output_type": "execute_result"
    }
   ],
   "source": [
    "len(df[df['datasetType'].isnull()]) / len(df)"
   ]
  },
  {
   "cell_type": "code",
   "execution_count": 25,
   "id": "17baf22f-b76c-40a1-a09b-1e93c1d505b9",
   "metadata": {},
   "outputs": [
    {
     "data": {
      "text/plain": [
       "0.01506"
      ]
     },
     "execution_count": 25,
     "metadata": {},
     "output_type": "execute_result"
    }
   ],
   "source": [
    "len(df[df['keywords'] == 0]) / len(df)"
   ]
  },
  {
   "cell_type": "code",
   "execution_count": 26,
   "id": "58e9a471-3f5e-49d8-83c1-7e780c1d404b",
   "metadata": {},
   "outputs": [
    {
     "data": {
      "text/plain": [
       "0.0056"
      ]
     },
     "execution_count": 26,
     "metadata": {},
     "output_type": "execute_result"
    }
   ],
   "source": [
    "len(df[df['datasetLocation'].isnull()]) / len(df)"
   ]
  },
  {
   "cell_type": "code",
   "execution_count": 12,
   "id": "9f158eb5-69d0-4c64-8a86-744437efd471",
   "metadata": {},
   "outputs": [],
   "source": [
    "grouped_by_publisher = df.groupby('publisher').agg({'keywords': 'mean'})"
   ]
  },
  {
   "cell_type": "code",
   "execution_count": 13,
   "id": "bded4d86-37ca-47c2-ba26-3401007e173b",
   "metadata": {},
   "outputs": [
    {
     "data": {
      "text/html": [
       "<div>\n",
       "<style scoped>\n",
       "    .dataframe tbody tr th:only-of-type {\n",
       "        vertical-align: middle;\n",
       "    }\n",
       "\n",
       "    .dataframe tbody tr th {\n",
       "        vertical-align: top;\n",
       "    }\n",
       "\n",
       "    .dataframe thead th {\n",
       "        text-align: right;\n",
       "    }\n",
       "</style>\n",
       "<table border=\"1\" class=\"dataframe\">\n",
       "  <thead>\n",
       "    <tr style=\"text-align: right;\">\n",
       "      <th></th>\n",
       "      <th>keywords</th>\n",
       "    </tr>\n",
       "    <tr>\n",
       "      <th>publisher</th>\n",
       "      <th></th>\n",
       "    </tr>\n",
       "  </thead>\n",
       "  <tbody>\n",
       "    <tr>\n",
       "      <th>Direction de l'information du territoire</th>\n",
       "      <td>0.000000</td>\n",
       "    </tr>\n",
       "    <tr>\n",
       "      <th>Directorate-General for Agriculture and Rural Development</th>\n",
       "      <td>2.000000</td>\n",
       "    </tr>\n",
       "    <tr>\n",
       "      <th>Directorate-General for Communication</th>\n",
       "      <td>3.500000</td>\n",
       "    </tr>\n",
       "    <tr>\n",
       "      <th>Directorate-General for Communications Networks, Content and Technology\\n</th>\n",
       "      <td>1.545455</td>\n",
       "    </tr>\n",
       "    <tr>\n",
       "      <th>Directorate-General for Competition</th>\n",
       "      <td>0.000000</td>\n",
       "    </tr>\n",
       "    <tr>\n",
       "      <th>Directorate-General for Energy</th>\n",
       "      <td>4.000000</td>\n",
       "    </tr>\n",
       "    <tr>\n",
       "      <th>Directorate-General for Environment</th>\n",
       "      <td>0.114286</td>\n",
       "    </tr>\n",
       "    <tr>\n",
       "      <th>Directorate-General for Health and Food Safety</th>\n",
       "      <td>4.333333</td>\n",
       "    </tr>\n",
       "    <tr>\n",
       "      <th>Directorate-General for Mobility and Transport</th>\n",
       "      <td>0.000000</td>\n",
       "    </tr>\n",
       "    <tr>\n",
       "      <th>Directorate-General for Regional and Urban Policy</th>\n",
       "      <td>13.500000</td>\n",
       "    </tr>\n",
       "    <tr>\n",
       "      <th>European Chemicals Agency</th>\n",
       "      <td>7.307692</td>\n",
       "    </tr>\n",
       "    <tr>\n",
       "      <th>European Climate, Infrastructure and Environment Executive Agency</th>\n",
       "      <td>5.111111</td>\n",
       "    </tr>\n",
       "    <tr>\n",
       "      <th>European Investment Bank</th>\n",
       "      <td>0.000000</td>\n",
       "    </tr>\n",
       "    <tr>\n",
       "      <th>European Maritime Safety Agency</th>\n",
       "      <td>1.166667</td>\n",
       "    </tr>\n",
       "    <tr>\n",
       "      <th>European Medicines Agency</th>\n",
       "      <td>2.000000</td>\n",
       "    </tr>\n",
       "    <tr>\n",
       "      <th>European Parliament</th>\n",
       "      <td>1.000000</td>\n",
       "    </tr>\n",
       "    <tr>\n",
       "      <th>Eurostat</th>\n",
       "      <td>13.512959</td>\n",
       "    </tr>\n",
       "    <tr>\n",
       "      <th>GEOSTAT est le centre de compétence pour la géoinformation et le traitement numérique des images digitales de l'OFS.</th>\n",
       "      <td>448.000000</td>\n",
       "    </tr>\n",
       "    <tr>\n",
       "      <th>GEOSTAT ist das BFS-Kompetenzzentrum für Geoinformation und digitale Bildverarbeitung.</th>\n",
       "      <td>448.000000</td>\n",
       "    </tr>\n",
       "    <tr>\n",
       "      <th>Joint Research Centre</th>\n",
       "      <td>4.761963</td>\n",
       "    </tr>\n",
       "  </tbody>\n",
       "</table>\n",
       "</div>"
      ],
      "text/plain": [
       "                                                      keywords\n",
       "publisher                                                     \n",
       "Direction de l'information du territoire              0.000000\n",
       "Directorate-General for Agriculture and Rural D...    2.000000\n",
       "Directorate-General for Communication                 3.500000\n",
       "Directorate-General for Communications Networks...    1.545455\n",
       "Directorate-General for Competition                   0.000000\n",
       "Directorate-General for Energy                        4.000000\n",
       "Directorate-General for Environment                   0.114286\n",
       "Directorate-General for Health and Food Safety        4.333333\n",
       "Directorate-General for Mobility and Transport        0.000000\n",
       "Directorate-General for Regional and Urban Policy    13.500000\n",
       "European Chemicals Agency                             7.307692\n",
       "European Climate, Infrastructure and Environmen...    5.111111\n",
       "European Investment Bank                              0.000000\n",
       "European Maritime Safety Agency                       1.166667\n",
       "European Medicines Agency                             2.000000\n",
       "European Parliament                                   1.000000\n",
       "Eurostat                                             13.512959\n",
       "GEOSTAT est le centre de compétence pour la géo...  448.000000\n",
       "GEOSTAT ist das BFS-Kompetenzzentrum für Geoinf...  448.000000\n",
       "Joint Research Centre                                 4.761963"
      ]
     },
     "execution_count": 13,
     "metadata": {},
     "output_type": "execute_result"
    }
   ],
   "source": [
    "grouped_by_publisher"
   ]
  },
  {
   "cell_type": "markdown",
   "id": "5387bc1c-9b97-4816-a700-cbe2ea7090d5",
   "metadata": {},
   "source": [
    "### Reusability properties"
   ]
  },
  {
   "cell_type": "code",
   "execution_count": 5,
   "id": "4e74317e-e99c-42ae-bef8-9390163144b3",
   "metadata": {},
   "outputs": [],
   "source": [
    "interoperability_query = \"\"\"\n",
    "SELECT * WHERE{\n",
    "    ?datasetURI a dcat:Dataset;\n",
    "    dct:publisher/rdfs:label|dct:publisher/skos:prefLabel ?publisher;\n",
    "    dcat:theme <http://publications.europa.eu/resource/authority/data-theme/ENVI>.\n",
    "} LIMIT 1500\n",
    "\"\"\""
   ]
  },
  {
   "cell_type": "code",
   "execution_count": 6,
   "id": "e99b2b1a-0982-4ddc-ac8a-16f4d38bd239",
   "metadata": {},
   "outputs": [],
   "source": [
    "df = interoperability.interoperability_properties(connection, interoperability_query, PREFIXES)"
   ]
  },
  {
   "cell_type": "code",
   "execution_count": 7,
   "id": "ac499217-5601-4e7f-90aa-2b58bc744b34",
   "metadata": {},
   "outputs": [
    {
     "data": {
      "text/html": [
       "<div>\n",
       "<style scoped>\n",
       "    .dataframe tbody tr th:only-of-type {\n",
       "        vertical-align: middle;\n",
       "    }\n",
       "\n",
       "    .dataframe tbody tr th {\n",
       "        vertical-align: top;\n",
       "    }\n",
       "\n",
       "    .dataframe thead th {\n",
       "        text-align: right;\n",
       "    }\n",
       "</style>\n",
       "<table border=\"1\" class=\"dataframe\">\n",
       "  <thead>\n",
       "    <tr style=\"text-align: right;\">\n",
       "      <th></th>\n",
       "      <th>datasetURI</th>\n",
       "      <th>referencesNumber</th>\n",
       "      <th>datasetLanguage</th>\n",
       "      <th>accessRights</th>\n",
       "    </tr>\n",
       "  </thead>\n",
       "  <tbody>\n",
       "    <tr>\n",
       "      <th>0</th>\n",
       "      <td>http://data.europa.eu/88u/dataset/sitg_9070-si...</td>\n",
       "      <td>0</td>\n",
       "      <td>fr</td>\n",
       "      <td>None</td>\n",
       "    </tr>\n",
       "    <tr>\n",
       "      <th>1</th>\n",
       "      <td>http://data.europa.eu/88u/dataset/v7ijwq0phdzo...</td>\n",
       "      <td>0</td>\n",
       "      <td>None</td>\n",
       "      <td>http://publications.europa.eu/resource/authori...</td>\n",
       "    </tr>\n",
       "    <tr>\n",
       "      <th>2</th>\n",
       "      <td>http://data.europa.eu/88u/dataset/sitg_5751-si...</td>\n",
       "      <td>0</td>\n",
       "      <td>fr</td>\n",
       "      <td>None</td>\n",
       "    </tr>\n",
       "    <tr>\n",
       "      <th>3</th>\n",
       "      <td>http://data.europa.eu/88u/dataset/sitg_6233-si...</td>\n",
       "      <td>0</td>\n",
       "      <td>fr</td>\n",
       "      <td>None</td>\n",
       "    </tr>\n",
       "    <tr>\n",
       "      <th>4</th>\n",
       "      <td>http://data.europa.eu/88u/dataset/1efzgnbzg9z2...</td>\n",
       "      <td>0</td>\n",
       "      <td>None</td>\n",
       "      <td>http://publications.europa.eu/resource/authori...</td>\n",
       "    </tr>\n",
       "  </tbody>\n",
       "</table>\n",
       "</div>"
      ],
      "text/plain": [
       "                                          datasetURI referencesNumber  \\\n",
       "0  http://data.europa.eu/88u/dataset/sitg_9070-si...                0   \n",
       "1  http://data.europa.eu/88u/dataset/v7ijwq0phdzo...                0   \n",
       "2  http://data.europa.eu/88u/dataset/sitg_5751-si...                0   \n",
       "3  http://data.europa.eu/88u/dataset/sitg_6233-si...                0   \n",
       "4  http://data.europa.eu/88u/dataset/1efzgnbzg9z2...                0   \n",
       "\n",
       "  datasetLanguage                                       accessRights  \n",
       "0              fr                                               None  \n",
       "1            None  http://publications.europa.eu/resource/authori...  \n",
       "2              fr                                               None  \n",
       "3              fr                                               None  \n",
       "4            None  http://publications.europa.eu/resource/authori...  "
      ]
     },
     "execution_count": 7,
     "metadata": {},
     "output_type": "execute_result"
    }
   ],
   "source": [
    "df.head()"
   ]
  },
  {
   "cell_type": "code",
   "execution_count": 9,
   "id": "0de3d200-9257-4eee-895d-64285239757f",
   "metadata": {},
   "outputs": [],
   "source": [
    "df['referencesNumber'] = df['referencesNumber'].astype(np.int64)"
   ]
  },
  {
   "cell_type": "code",
   "execution_count": 11,
   "id": "ae12bcc5-64a8-4d6c-adf5-62fe8eaf6045",
   "metadata": {},
   "outputs": [
    {
     "data": {
      "image/png": "[encoded data removed]",
      "text/plain": [
       "<Figure size 640x480 with 1 Axes>"
      ]
     },
     "metadata": {},
     "output_type": "display_data"
    }
   ],
   "source": [
    "plt.hist(df['referencesNumber'], bins=50)\n",
    "plt.show()"
   ]
  },
  {
   "cell_type": "code",
   "execution_count": 12,
   "id": "91f4993f-cf26-4ee8-ace4-3f9aec5e6ce6",
   "metadata": {},
   "outputs": [
    {
     "data": {
      "text/plain": [
       "0.9745222929936306"
      ]
     },
     "execution_count": 12,
     "metadata": {},
     "output_type": "execute_result"
    }
   ],
   "source": [
    "len(df[df['referencesNumber'] == 0]) / len(df)"
   ]
  },
  {
   "cell_type": "code",
   "execution_count": 14,
   "id": "11f3548a-d414-411e-88bf-2fbfdec2426c",
   "metadata": {},
   "outputs": [
    {
     "data": {
      "text/plain": [
       "0.7643312101910829"
      ]
     },
     "execution_count": 14,
     "metadata": {},
     "output_type": "execute_result"
    }
   ],
   "source": [
    "len(df[~df['datasetLanguage'].isnull()]) / len(df)"
   ]
  },
  {
   "cell_type": "code",
   "execution_count": 15,
   "id": "dd2f0f87-5dca-43a8-ab55-07a5e38470c9",
   "metadata": {},
   "outputs": [
    {
     "data": {
      "text/plain": [
       "0.2229299363057325"
      ]
     },
     "execution_count": 15,
     "metadata": {},
     "output_type": "execute_result"
    }
   ],
   "source": [
    "len(df[~df['accessRights'].isnull()]) / len(df)"
   ]
  }
 ],
 "metadata": {
  "kernelspec": {
   "display_name": "Python 3 (ipykernel)",
   "language": "python",
   "name": "python3"
  },
  "language_info": {
   "codemirror_mode": {
    "name": "ipython",
    "version": 3
   },
   "file_extension": ".py",
   "mimetype": "text/x-python",
   "name": "python",
   "nbconvert_exporter": "python",
   "pygments_lexer": "ipython3",
   "version": "3.10.15"
  }
 },
 "nbformat": 4,
 "nbformat_minor": 5
}
