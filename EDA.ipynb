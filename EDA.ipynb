{
 "cells": [
  {
   "cell_type": "markdown",
   "id": "69d30bd1846afc99",
   "metadata": {},
   "source": [
    "# Configuration"
   ]
  },
  {
   "cell_type": "code",
   "execution_count": 8,
   "id": "initial_id",
   "metadata": {
    "ExecuteTime": {
     "end_time": "2024-11-11T01:09:41.441996Z",
     "start_time": "2024-11-11T01:09:40.547535Z"
    }
   },
   "source": [
    "from SPARQLWrapper import SPARQLWrapper, JSON\n",
    "from utils import SPARQL_to_df\n",
    "from FAIR import findability, accessibility, interoperability, reusability\n",
    "import pandas as pd\n",
    "import numpy as np\n",
    "from matplotlib import pyplot as plt"
   ],
   "outputs": []
  },
  {
   "cell_type": "code",
   "execution_count": 2,
   "id": "9bbb8b93b4179ad9",
   "metadata": {
    "ExecuteTime": {
     "end_time": "2024-11-11T01:09:41.457566Z",
     "start_time": "2024-11-11T01:09:41.441996Z"
    }
   },
   "source": [
    "connection = SPARQLWrapper(\"https://data.europa.eu/sparql\")"
   ],
   "outputs": []
  },
  {
   "cell_type": "code",
   "execution_count": 4,
   "id": "b4fe86446fadcca1",
   "metadata": {
    "ExecuteTime": {
     "end_time": "2024-11-11T01:09:41.479785Z",
     "start_time": "2024-11-11T01:09:41.457566Z"
    }
   },
   "source": [
    "PREFIXES = \"\"\"\n",
    "    PREFIX dcat: <http://www.w3.org/ns/dcat#>\n",
    "    PREFIX odp:  <http://data.europa.eu/euodp/ontologies/ec-odp#>\n",
    "    PREFIX dct: <http://purl.org/dc/terms/>\n",
    "    PREFIX xsd: <http://www.w3.org/2001/XMLSchema#>\n",
    "    PREFIX foaf: <http://xmlns.com/foaf/0.1/>\n",
    "    PREFIX void: <http://rdfs.org/ns/void#>\n",
    "\"\"\""
   ],
   "outputs": []
  },
  {
   "cell_type": "markdown",
   "id": "f1c0544c4e9b28e4",
   "metadata": {},
   "source": [
    "## Sample query"
   ]
  },
  {
   "cell_type": "code",
   "execution_count": 4,
   "id": "9081c6e1d66c33c2",
   "metadata": {
    "ExecuteTime": {
     "end_time": "2024-11-11T01:09:41.627039Z",
     "start_time": "2024-11-11T01:09:41.479785Z"
    }
   },
   "source": [
    "query = \"\"\"\n",
    "    SELECT DISTINCT ?p WHERE {\n",
    "        SELECT * WHERE {\n",
    "        ?d a dcat:Dataset .\n",
    "        ?d ?p ?o .\n",
    "      }\n",
    "      LIMIT 5000\n",
    "    }\n",
    "    \"\"\"\n",
    "\n",
    "df = SPARQL_to_df(connection, query, PREFIXES)"
   ],
   "outputs": []
  },
  {
   "cell_type": "code",
   "execution_count": 5,
   "id": "5ba16f0e243a6f26",
   "metadata": {
    "ExecuteTime": {
     "end_time": "2024-11-11T01:09:41.658189Z",
     "start_time": "2024-11-11T01:09:41.627039Z"
    }
   },
   "source": [
    "df.head()"
   ],
   "outputs": []
  },
  {
   "cell_type": "code",
   "execution_count": 6,
   "id": "fd5ef94436583a2f",
   "metadata": {
    "ExecuteTime": {
     "end_time": "2024-11-11T01:09:41.897103Z",
     "start_time": "2024-11-11T01:09:41.658189Z"
    }
   },
   "source": [
    "accessibility.is_url_ok(df.p[0])"
   ],
   "outputs": []
  },
  {
   "cell_type": "code",
   "execution_count": 7,
   "id": "dbac49a9d125cc59",
   "metadata": {
    "ExecuteTime": {
     "end_time": "2024-11-11T01:09:41.912682Z",
     "start_time": "2024-11-11T01:09:41.897103Z"
    }
   },
   "source": [
    "df[df.p.str.startswith(\"http://rdfs.org/ns/void#\")]"
   ],
   "outputs": []
  },
  {
   "cell_type": "markdown",
   "id": "827112344b2293b",
   "metadata": {},
   "source": [
    "No void vocabulary in the dataset"
   ]
  },
  {
   "cell_type": "code",
   "execution_count": 8,
   "id": "767fa6e325737260",
   "metadata": {
    "ExecuteTime": {
     "end_time": "2024-11-11T01:09:42.886095Z",
     "start_time": "2024-11-11T01:09:41.912682Z"
    }
   },
   "source": [
    "datasets_query = \"\"\"\n",
    "    SELECT ?d WHERE {\n",
    "        SELECT * WHERE {\n",
    "        ?d a dcat:Dataset .\n",
    "      }\n",
    "      LIMIT 5000\n",
    "    }\n",
    "    \"\"\"\n",
    "\n",
    "distr_links = accessibility.distribution_links(connection, datasets_query, PREFIXES)"
   ],
   "outputs": []
  },
  {
   "cell_type": "code",
   "execution_count": 9,
   "id": "9e7d22ad57b4224",
   "metadata": {
    "ExecuteTime": {
     "end_time": "2024-11-11T01:09:42.906482Z",
     "start_time": "2024-11-11T01:09:42.888156Z"
    }
   },
   "source": [
    "distr_links.head()"
   ],
   "outputs": []
  },
  {
   "cell_type": "code",
   "execution_count": 10,
   "id": "ac9fb18f8026bbb5",
   "metadata": {
    "ExecuteTime": {
     "end_time": "2024-11-11T01:09:42.967655Z",
     "start_time": "2024-11-11T01:09:42.908575Z"
    }
   },
   "source": [
    "distr_agg = distr_links.groupby(\"distribution\").agg({\"accessURL\": \"count\", \"downloadURL\": \"count\"}).sort_values([\"accessURL\", \"downloadURL\"], ascending=False)\n",
    "distr_agg['ratio'] = distr_agg.downloadURL / distr_agg.accessURL\n",
    "distr_agg"
   ],
   "outputs": []
  },
  {
   "cell_type": "code",
   "execution_count": 11,
   "id": "509a08cfaaa1fd1b",
   "metadata": {
    "ExecuteTime": {
     "end_time": "2024-11-11T01:09:43.049251Z",
     "start_time": "2024-11-11T01:09:42.969721Z"
    }
   },
   "source": [
    "distr_agg = distr_links.groupby(\"dataset\").agg({\"accessURL\": \"count\", \"downloadURL\": \"count\", \"distribution\": \"count\"}).sort_values([\"accessURL\", \"downloadURL\"], ascending=False)\n",
    "distr_agg['ratio'] = distr_agg.downloadURL / (distr_agg.accessURL.apply(lambda x: x or 1))\n",
    "distr_agg"
   ],
   "outputs": []
  },
  {
   "cell_type": "code",
   "execution_count": 12,
   "id": "ac46dc625d72b7c4",
   "metadata": {
    "ExecuteTime": {
     "end_time": "2024-11-11T01:09:43.089995Z",
     "start_time": "2024-11-11T01:09:43.051320Z"
    }
   },
   "source": [
    "distr_agg[distr_agg.accessURL != distr_agg.distribution]"
   ],
   "outputs": []
  },
  {
   "cell_type": "code",
   "execution_count": 13,
   "id": "e3fbe86b04433794",
   "metadata": {
    "ExecuteTime": {
     "end_time": "2024-11-11T01:09:43.724972Z",
     "start_time": "2024-11-11T01:09:43.092081Z"
    }
   },
   "source": [
    "datasets_query = \"\"\"\n",
    "    SELECT ?d WHERE {\n",
    "        SELECT * WHERE {\n",
    "        ?d a dcat:Dataset .\n",
    "      }\n",
    "      LIMIT 5000\n",
    "    }\n",
    "    \"\"\"\n",
    "\n",
    "author_info = reusability.publisher_provenance_contant(connection, datasets_query, PREFIXES)"
   ],
   "outputs": []
  },
  {
   "cell_type": "code",
   "execution_count": 14,
   "id": "3f7c26cca0ab34d3",
   "metadata": {
    "ExecuteTime": {
     "end_time": "2024-11-11T01:13:19.845922Z",
     "start_time": "2024-11-11T01:13:19.814677Z"
    }
   },
   "source": [
    "(~author_info.drop_duplicates(\"dataset\").isnull()).mean()"
   ],
   "outputs": []
  },
  {
   "cell_type": "markdown",
   "id": "26c61754-aba6-4d34-bcbf-659ec787e1eb",
   "metadata": {},
   "source": [
    "### Findability properties"
   ]
  },
  {
   "cell_type": "code",
   "execution_count": 18,
   "id": "4fd0f1e4-a8d1-4c12-a767-6ca879b7e6d2",
   "metadata": {},
   "source": [
    "findability_query = \"\"\"\n",
    "SELECT * WHERE{\n",
    "    ?datasetURI a dcat:Dataset;\n",
    "    dct:publisher/rdfs:label|dct:publisher/skos:prefLabel ?publisher;\n",
    "    dcat:theme <http://publications.europa.eu/resource/authority/data-theme/ENVI>.\n",
    "    FILTER (LANG(?publisher) = \"\" || LANG(?publisher) = \"en\") .\n",
    "} LIMIT 1500\n",
    "\"\"\""
   ],
   "outputs": []
  },
  {
   "cell_type": "code",
   "execution_count": 19,
   "id": "017d1138-8b10-4a1f-848f-425b5b63393a",
   "metadata": {},
   "source": [
    "df = findability.findability_properties(connection, findability_query, PREFIXES)"
   ],
   "outputs": []
  },
  {
   "cell_type": "code",
   "execution_count": 20,
   "id": "4b35c94f-7331-4794-b499-683c54148375",
   "metadata": {},
   "source": [
    "df['keywords'] = df['keywords'].astype(np.int64)"
   ],
   "outputs": []
  },
  {
   "cell_type": "code",
   "execution_count": 21,
   "id": "dcdc9421-3f4d-48a5-ba0f-6bfa115ccd8a",
   "metadata": {},
   "source": [
    "df.head()"
   ],
   "outputs": []
  },
  {
   "cell_type": "code",
   "execution_count": 22,
   "id": "9358e62a-00f1-4a07-a072-ee2697bd7fe1",
   "metadata": {},
   "source": [
    "len(df[df['issuedDate'].isnull()]) / len(df)"
   ],
   "outputs": []
  },
  {
   "cell_type": "code",
   "execution_count": 23,
   "id": "ee535b06-a9c8-4fe8-8055-a73ac982b377",
   "metadata": {},
   "source": [
    "len(df[df['englishTitle'] == '']) / len(df)"
   ],
   "outputs": []
  },
  {
   "cell_type": "code",
   "execution_count": 24,
   "id": "2c368b95-086f-4a66-adce-d8d216900f20",
   "metadata": {},
   "source": [
    "len(df[df['datasetType'].isnull()]) / len(df)"
   ],
   "outputs": []
  },
  {
   "cell_type": "code",
   "execution_count": 25,
   "id": "17baf22f-b76c-40a1-a09b-1e93c1d505b9",
   "metadata": {},
   "source": [
    "len(df[df['keywords'] == 0]) / len(df)"
   ],
   "outputs": []
  },
  {
   "cell_type": "code",
   "execution_count": 26,
   "id": "58e9a471-3f5e-49d8-83c1-7e780c1d404b",
   "metadata": {},
   "source": [
    "len(df[df['datasetLocation'].isnull()]) / len(df)"
   ],
   "outputs": []
  },
  {
   "cell_type": "code",
   "execution_count": 12,
   "id": "9f158eb5-69d0-4c64-8a86-744437efd471",
   "metadata": {},
   "source": [
    "grouped_by_publisher = df.groupby('publisher').agg({'keywords': 'mean'})"
   ],
   "outputs": []
  },
  {
   "cell_type": "code",
   "execution_count": 13,
   "id": "bded4d86-37ca-47c2-ba26-3401007e173b",
   "metadata": {},
   "source": [
    "grouped_by_publisher"
   ],
   "outputs": []
  },
  {
   "cell_type": "markdown",
   "id": "5387bc1c-9b97-4816-a700-cbe2ea7090d5",
   "metadata": {},
   "source": [
    "### Reusability properties"
   ]
  },
  {
   "cell_type": "code",
   "execution_count": 5,
   "id": "4e74317e-e99c-42ae-bef8-9390163144b3",
   "metadata": {},
   "source": [
    "interoperability_query = \"\"\"\n",
    "SELECT * WHERE{\n",
    "    ?datasetURI a dcat:Dataset;\n",
    "    dct:publisher/rdfs:label|dct:publisher/skos:prefLabel ?publisher;\n",
    "    dcat:theme <http://publications.europa.eu/resource/authority/data-theme/ENVI>.\n",
    "} LIMIT 1500\n",
    "\"\"\""
   ],
   "outputs": []
  },
  {
   "cell_type": "code",
   "execution_count": 6,
   "id": "e99b2b1a-0982-4ddc-ac8a-16f4d38bd239",
   "metadata": {},
   "source": [
    "df = interoperability.interoperability_properties(connection, interoperability_query, PREFIXES)"
   ],
   "outputs": []
  },
  {
   "cell_type": "code",
   "execution_count": 7,
   "id": "ac499217-5601-4e7f-90aa-2b58bc744b34",
   "metadata": {},
   "source": [
    "df.head()"
   ],
   "outputs": []
  },
  {
   "cell_type": "code",
   "execution_count": 9,
   "id": "0de3d200-9257-4eee-895d-64285239757f",
   "metadata": {},
   "source": [
    "df['referencesNumber'] = df['referencesNumber'].astype(np.int64)"
   ],
   "outputs": []
  },
  {
   "cell_type": "code",
   "execution_count": 11,
   "id": "ae12bcc5-64a8-4d6c-adf5-62fe8eaf6045",
   "metadata": {},
   "source": [
    "plt.hist(df['referencesNumber'], bins=50)\n",
    "plt.show()"
   ],
   "outputs": []
  },
  {
   "cell_type": "code",
   "execution_count": 12,
   "id": "91f4993f-cf26-4ee8-ace4-3f9aec5e6ce6",
   "metadata": {},
   "source": [
    "len(df[df['referencesNumber'] == 0]) / len(df)"
   ],
   "outputs": []
  },
  {
   "cell_type": "code",
   "execution_count": 14,
   "id": "11f3548a-d414-411e-88bf-2fbfdec2426c",
   "metadata": {},
   "source": [
    "len(df[~df['datasetLanguage'].isnull()]) / len(df)"
   ],
   "outputs": []
  },
  {
   "cell_type": "code",
   "execution_count": 15,
   "id": "dd2f0f87-5dca-43a8-ab55-07a5e38470c9",
   "metadata": {},
   "source": [
    "len(df[~df['accessRights'].isnull()]) / len(df)"
   ],
   "outputs": []
  }
 ],
 "metadata": {
  "kernelspec": {
   "display_name": "Python 3 (ipykernel)",
   "language": "python",
   "name": "python3"
  },
  "language_info": {
   "codemirror_mode": {
    "name": "ipython",
    "version": 3
   },
   "file_extension": ".py",
   "mimetype": "text/x-python",
   "name": "python",
   "nbconvert_exporter": "python",
   "pygments_lexer": "ipython3",
   "version": "3.10.15"
  }
 },
 "nbformat": 4,
 "nbformat_minor": 5
}
